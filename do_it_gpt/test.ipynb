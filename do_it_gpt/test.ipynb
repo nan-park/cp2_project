{
 "cells": [
  {
   "cell_type": "code",
   "execution_count": 1,
   "metadata": {},
   "outputs": [],
   "source": [
    "import pandas as pd\n",
    "import numpy as np"
   ]
  },
  {
   "cell_type": "code",
   "execution_count": 31,
   "metadata": {},
   "outputs": [
    {
     "data": {
      "text/html": [
       "<div>\n",
       "<style scoped>\n",
       "    .dataframe tbody tr th:only-of-type {\n",
       "        vertical-align: middle;\n",
       "    }\n",
       "\n",
       "    .dataframe tbody tr th {\n",
       "        vertical-align: top;\n",
       "    }\n",
       "\n",
       "    .dataframe thead th {\n",
       "        text-align: right;\n",
       "    }\n",
       "</style>\n",
       "<table border=\"1\" class=\"dataframe\">\n",
       "  <thead>\n",
       "    <tr style=\"text-align: right;\">\n",
       "      <th></th>\n",
       "      <th>title</th>\n",
       "      <th>link</th>\n",
       "      <th>description</th>\n",
       "      <th>place</th>\n",
       "    </tr>\n",
       "  </thead>\n",
       "  <tbody>\n",
       "    <tr>\n",
       "      <th>0</th>\n",
       "      <td>합리적이였던 신촌역 고기집</td>\n",
       "      <td>https://blog.naver.com/songinpark93/222936335542</td>\n",
       "      <td>미식회관 신촌점 ■ 서울 서대문구 연세로7안길 34-6 1, 2층 ■ 12:00 -...</td>\n",
       "      <td>신촌역</td>\n",
       "    </tr>\n",
       "    <tr>\n",
       "      <th>1</th>\n",
       "      <td>이화여대 신촌역 샐러드 맛집 굿바이슈가베어 솔직후기</td>\n",
       "      <td>https://blog.naver.com/modern_dyoni/222933372090</td>\n",
       "      <td>이화여대 신촌역 샐러드 맛집 굿바이슈가베어 솔직후기 이대갔다가 샐러드가 먹고싶어서 ...</td>\n",
       "      <td>신촌역</td>\n",
       "    </tr>\n",
       "    <tr>\n",
       "      <th>2</th>\n",
       "      <td>앙버터 존맛탱 신촌역 디저트 카페 고르드</td>\n",
       "      <td>https://blog.naver.com/dhkdqnflxldz/222897227428</td>\n",
       "      <td>이번에 다녀온 #빵집투어 예전에 박박이랑 데이트할 때 자주 갔던 #신촌역빵집 겸 카...</td>\n",
       "      <td>신촌역</td>\n",
       "    </tr>\n",
       "    <tr>\n",
       "      <th>3</th>\n",
       "      <td>[먹거리 리뷰] 서울 신촌역 그랜드플라자 피자몰 신촌점...</td>\n",
       "      <td>https://blog.naver.com/sakamuts/222988678797</td>\n",
       "      <td>안녕하세요~. 유카쿠입니다. 며칠 전, 블로그 서로이웃이신 네트라핌 님과 카온 님과...</td>\n",
       "      <td>신촌역</td>\n",
       "    </tr>\n",
       "    <tr>\n",
       "      <th>4</th>\n",
       "      <td>경의선 신촌역 시간표 및 공영주차장 / 경의중앙선 신촌기차역...</td>\n",
       "      <td>https://blog.naver.com/dxsuckit69/222970302551</td>\n",
       "      <td>경의중앙선 신촌역 시간표 및 공영주차장 위치 확인하기 경의선 신촌역 앞 신촌기차역 ...</td>\n",
       "      <td>신촌역</td>\n",
       "    </tr>\n",
       "  </tbody>\n",
       "</table>\n",
       "</div>"
      ],
      "text/plain": [
       "                                   title  \\\n",
       "0                         합리적이였던 신촌역 고기집   \n",
       "1           이화여대 신촌역 샐러드 맛집 굿바이슈가베어 솔직후기   \n",
       "2                 앙버터 존맛탱 신촌역 디저트 카페 고르드   \n",
       "3     [먹거리 리뷰] 서울 신촌역 그랜드플라자 피자몰 신촌점...    \n",
       "4  경의선 신촌역 시간표 및 공영주차장 / 경의중앙선 신촌기차역...    \n",
       "\n",
       "                                               link  \\\n",
       "0  https://blog.naver.com/songinpark93/222936335542   \n",
       "1  https://blog.naver.com/modern_dyoni/222933372090   \n",
       "2  https://blog.naver.com/dhkdqnflxldz/222897227428   \n",
       "3      https://blog.naver.com/sakamuts/222988678797   \n",
       "4    https://blog.naver.com/dxsuckit69/222970302551   \n",
       "\n",
       "                                         description place  \n",
       "0  미식회관 신촌점 ■ 서울 서대문구 연세로7안길 34-6 1, 2층 ■ 12:00 -...   신촌역  \n",
       "1  이화여대 신촌역 샐러드 맛집 굿바이슈가베어 솔직후기 이대갔다가 샐러드가 먹고싶어서 ...   신촌역  \n",
       "2  이번에 다녀온 #빵집투어 예전에 박박이랑 데이트할 때 자주 갔던 #신촌역빵집 겸 카...   신촌역  \n",
       "3  안녕하세요~. 유카쿠입니다. 며칠 전, 블로그 서로이웃이신 네트라핌 님과 카온 님과...   신촌역  \n",
       "4  경의중앙선 신촌역 시간표 및 공영주차장 위치 확인하기 경의선 신촌역 앞 신촌기차역 ...   신촌역  "
      ]
     },
     "execution_count": 31,
     "metadata": {},
     "output_type": "execute_result"
    }
   ],
   "source": [
    "df_shinchon = pd.read_csv('../blog_crawling/crawling_shinchon.csv')\n",
    "df_yeoksam = pd.read_csv('../blog_crawling/crawling_yeoksam.csv')\n",
    "df_shinlim = pd.read_csv('../blog_crawling/crawling_shinlim.csv')\n",
    "\n",
    "df_shinchon['place'] = '신촌역'\n",
    "df_yeoksam['place'] = '역삼역'\n",
    "df_shinlim['place'] = '신림역'\n",
    "\n",
    "df = pd.concat([df_shinchon, df_yeoksam, df_shinlim])\n",
    "df.drop('Unnamed: 0', axis=1, inplace=True)\n",
    "df.head()"
   ]
  },
  {
   "cell_type": "code",
   "execution_count": 32,
   "metadata": {},
   "outputs": [
    {
     "data": {
      "text/plain": [
       "0       미식회관 신촌점 ■ 서울 서대문구 연세로7안길 34-6 1, 2층 ■ 12:00 -...\n",
       "1       이화여대 신촌역 샐러드 맛집 굿바이슈가베어 솔직후기 이대갔다가 샐러드가 먹고싶어서 ...\n",
       "2       이번에 다녀온 #빵집투어 예전에 박박이랑 데이트할 때 자주 갔던 #신촌역빵집 겸 카...\n",
       "3       안녕하세요~. 유카쿠입니다. 며칠 전, 블로그 서로이웃이신 네트라핌 님과 카온 님과...\n",
       "4       경의중앙선 신촌역 시간표 및 공영주차장 위치 확인하기 경의선 신촌역 앞 신촌기차역 ...\n",
       "                              ...                        \n",
       "1084    안녕하세요. 창업등대입니다. 이번 상권분석 지역은 신촌역입니다. 신촌역 상권은 서대...\n",
       "1085    W H E R E #신촌역카페 #고르드 밥 먹으러 가기전에 잠깐 시간도 떼우고 요기...\n",
       "1086    먹으러다녀요 맛난곳 747개의 글 맛난곳 목록열기 [신촌역] 모스버거 신촌현대점 M...\n",
       "1087    안녕하네요! 추석 잘 보내고 돌아온 밍구입니다~ 얼마 전 핸드폰고치느라 신촌역에 갔...\n",
       "1088    블로그 먹방 862개의 글 먹방 목록열기 [신촌맛집] 찰스숯불김밥 /~ 신촌역 근처...\n",
       "Name: description, Length: 1089, dtype: object"
      ]
     },
     "execution_count": 32,
     "metadata": {},
     "output_type": "execute_result"
    }
   ],
   "source": [
    "df[df['place']=='신촌역']['description']"
   ]
  },
  {
   "cell_type": "code",
   "execution_count": 33,
   "metadata": {},
   "outputs": [
    {
     "name": "stderr",
     "output_type": "stream",
     "text": [
      "C:\\Users\\USERPC\\AppData\\Local\\Temp\\ipykernel_2516\\3159965498.py:1: FutureWarning: The default value of regex will change from True to False in a future version.\n",
      "  df['description'] = df['description'].str.replace('[^가-힣 \\.]', '')\n"
     ]
    }
   ],
   "source": [
    "df['description'] = df['description'].str.replace('[^가-힣 \\.]', '')"
   ]
  },
  {
   "cell_type": "code",
   "execution_count": 34,
   "metadata": {},
   "outputs": [
    {
     "data": {
      "text/html": [
       "<div>\n",
       "<style scoped>\n",
       "    .dataframe tbody tr th:only-of-type {\n",
       "        vertical-align: middle;\n",
       "    }\n",
       "\n",
       "    .dataframe tbody tr th {\n",
       "        vertical-align: top;\n",
       "    }\n",
       "\n",
       "    .dataframe thead th {\n",
       "        text-align: right;\n",
       "    }\n",
       "</style>\n",
       "<table border=\"1\" class=\"dataframe\">\n",
       "  <thead>\n",
       "    <tr style=\"text-align: right;\">\n",
       "      <th></th>\n",
       "      <th>title</th>\n",
       "      <th>link</th>\n",
       "      <th>description</th>\n",
       "      <th>place</th>\n",
       "    </tr>\n",
       "  </thead>\n",
       "  <tbody>\n",
       "    <tr>\n",
       "      <th>0</th>\n",
       "      <td>합리적이였던 신촌역 고기집</td>\n",
       "      <td>https://blog.naver.com/songinpark93/222936335542</td>\n",
       "      <td>미식회관 신촌점  서울 서대문구 연세로안길   층    새벽 까지 라스트오더 시  ...</td>\n",
       "      <td>신촌역</td>\n",
       "    </tr>\n",
       "    <tr>\n",
       "      <th>1</th>\n",
       "      <td>이화여대 신촌역 샐러드 맛집 굿바이슈가베어 솔직후기</td>\n",
       "      <td>https://blog.naver.com/modern_dyoni/222933372090</td>\n",
       "      <td>이화여대 신촌역 샐러드 맛집 굿바이슈가베어 솔직후기 이대갔다가 샐러드가 먹고싶어서 ...</td>\n",
       "      <td>신촌역</td>\n",
       "    </tr>\n",
       "    <tr>\n",
       "      <th>2</th>\n",
       "      <td>앙버터 존맛탱 신촌역 디저트 카페 고르드</td>\n",
       "      <td>https://blog.naver.com/dhkdqnflxldz/222897227428</td>\n",
       "      <td>이번에 다녀온 빵집투어 예전에 박박이랑 데이트할 때 자주 갔던 신촌역빵집 겸 카페인...</td>\n",
       "      <td>신촌역</td>\n",
       "    </tr>\n",
       "    <tr>\n",
       "      <th>3</th>\n",
       "      <td>[먹거리 리뷰] 서울 신촌역 그랜드플라자 피자몰 신촌점...</td>\n",
       "      <td>https://blog.naver.com/sakamuts/222988678797</td>\n",
       "      <td>안녕하세요. 유카쿠입니다. 며칠 전 블로그 서로이웃이신 네트라핌 님과 카온 님과 함...</td>\n",
       "      <td>신촌역</td>\n",
       "    </tr>\n",
       "    <tr>\n",
       "      <th>4</th>\n",
       "      <td>경의선 신촌역 시간표 및 공영주차장 / 경의중앙선 신촌기차역...</td>\n",
       "      <td>https://blog.naver.com/dxsuckit69/222970302551</td>\n",
       "      <td>경의중앙선 신촌역 시간표 및 공영주차장 위치 확인하기 경의선 신촌역 앞 신촌기차역 ...</td>\n",
       "      <td>신촌역</td>\n",
       "    </tr>\n",
       "    <tr>\n",
       "      <th>...</th>\n",
       "      <td>...</td>\n",
       "      <td>...</td>\n",
       "      <td>...</td>\n",
       "      <td>...</td>\n",
       "    </tr>\n",
       "    <tr>\n",
       "      <th>1089</th>\n",
       "      <td>[동네이야기] 신림역  모하 스터디카페(moha study cafe)</td>\n",
       "      <td>https://blog.naver.com/onion22222/222958018764</td>\n",
       "      <td>안녕하세요  재원 행정사가 위치한 신림역의 동네이야기입니다. 고시공부로 유명한 동네...</td>\n",
       "      <td>신림역</td>\n",
       "    </tr>\n",
       "    <tr>\n",
       "      <th>1090</th>\n",
       "      <td>신림역네일 귀여운 디자인 ♡ 네일나린</td>\n",
       "      <td>https://blog.naver.com/moony1212/222914338632</td>\n",
       "      <td>해피 할로윈을 귀여운 호박 유령 디자인 네일아트와 함께 해요 집에 와서 할로윈 장식...</td>\n",
       "      <td>신림역</td>\n",
       "    </tr>\n",
       "    <tr>\n",
       "      <th>1091</th>\n",
       "      <td>신림역 데이트 저녁 코스 [신랑과 둘이 아바타보러가요]</td>\n",
       "      <td>https://blog.naver.com/smile-daisy/222957379495</td>\n",
       "      <td>어제 진행된 저녁 코스입니다. 다들 이 정도 일정으로 살고 계시죠 .직장 업무마무리...</td>\n",
       "      <td>신림역</td>\n",
       "    </tr>\n",
       "    <tr>\n",
       "      <th>1092</th>\n",
       "      <td>신림역 인기 고구마 붕어빵</td>\n",
       "      <td>https://blog.naver.com/94bae/222967762905</td>\n",
       "      <td>안녕하세요 래렁 입니다. 요즘같이 추운 겨울철에는 주머니에 천원짜리 몇장씩 꼭 들고...</td>\n",
       "      <td>신림역</td>\n",
       "    </tr>\n",
       "    <tr>\n",
       "      <th>1093</th>\n",
       "      <td>[흥부보쌈] 35년 꾸준히 사랑 받은 신림역 보쌈 맛집</td>\n",
       "      <td>https://blog.naver.com/jang9369/222929342973</td>\n",
       "      <td>안녕하세요 미식산책입니다  고등학교 시절부터 신림동에 한결같은 맛으로 사랑받은 흥부...</td>\n",
       "      <td>신림역</td>\n",
       "    </tr>\n",
       "  </tbody>\n",
       "</table>\n",
       "<p>3273 rows × 4 columns</p>\n",
       "</div>"
      ],
      "text/plain": [
       "                                       title  \\\n",
       "0                             합리적이였던 신촌역 고기집   \n",
       "1               이화여대 신촌역 샐러드 맛집 굿바이슈가베어 솔직후기   \n",
       "2                     앙버터 존맛탱 신촌역 디저트 카페 고르드   \n",
       "3         [먹거리 리뷰] 서울 신촌역 그랜드플라자 피자몰 신촌점...    \n",
       "4      경의선 신촌역 시간표 및 공영주차장 / 경의중앙선 신촌기차역...    \n",
       "...                                      ...   \n",
       "1089  [동네이야기] 신림역  모하 스터디카페(moha study cafe)   \n",
       "1090                    신림역네일 귀여운 디자인 ♡ 네일나린   \n",
       "1091          신림역 데이트 저녁 코스 [신랑과 둘이 아바타보러가요]   \n",
       "1092                          신림역 인기 고구마 붕어빵   \n",
       "1093          [흥부보쌈] 35년 꾸준히 사랑 받은 신림역 보쌈 맛집   \n",
       "\n",
       "                                                  link  \\\n",
       "0     https://blog.naver.com/songinpark93/222936335542   \n",
       "1     https://blog.naver.com/modern_dyoni/222933372090   \n",
       "2     https://blog.naver.com/dhkdqnflxldz/222897227428   \n",
       "3         https://blog.naver.com/sakamuts/222988678797   \n",
       "4       https://blog.naver.com/dxsuckit69/222970302551   \n",
       "...                                                ...   \n",
       "1089    https://blog.naver.com/onion22222/222958018764   \n",
       "1090     https://blog.naver.com/moony1212/222914338632   \n",
       "1091   https://blog.naver.com/smile-daisy/222957379495   \n",
       "1092         https://blog.naver.com/94bae/222967762905   \n",
       "1093      https://blog.naver.com/jang9369/222929342973   \n",
       "\n",
       "                                            description place  \n",
       "0     미식회관 신촌점  서울 서대문구 연세로안길   층    새벽 까지 라스트오더 시  ...   신촌역  \n",
       "1     이화여대 신촌역 샐러드 맛집 굿바이슈가베어 솔직후기 이대갔다가 샐러드가 먹고싶어서 ...   신촌역  \n",
       "2     이번에 다녀온 빵집투어 예전에 박박이랑 데이트할 때 자주 갔던 신촌역빵집 겸 카페인...   신촌역  \n",
       "3     안녕하세요. 유카쿠입니다. 며칠 전 블로그 서로이웃이신 네트라핌 님과 카온 님과 함...   신촌역  \n",
       "4     경의중앙선 신촌역 시간표 및 공영주차장 위치 확인하기 경의선 신촌역 앞 신촌기차역 ...   신촌역  \n",
       "...                                                 ...   ...  \n",
       "1089  안녕하세요  재원 행정사가 위치한 신림역의 동네이야기입니다. 고시공부로 유명한 동네...   신림역  \n",
       "1090  해피 할로윈을 귀여운 호박 유령 디자인 네일아트와 함께 해요 집에 와서 할로윈 장식...   신림역  \n",
       "1091  어제 진행된 저녁 코스입니다. 다들 이 정도 일정으로 살고 계시죠 .직장 업무마무리...   신림역  \n",
       "1092  안녕하세요 래렁 입니다. 요즘같이 추운 겨울철에는 주머니에 천원짜리 몇장씩 꼭 들고...   신림역  \n",
       "1093  안녕하세요 미식산책입니다  고등학교 시절부터 신림동에 한결같은 맛으로 사랑받은 흥부...   신림역  \n",
       "\n",
       "[3273 rows x 4 columns]"
      ]
     },
     "execution_count": 34,
     "metadata": {},
     "output_type": "execute_result"
    }
   ],
   "source": [
    "df"
   ]
  },
  {
   "cell_type": "code",
   "execution_count": 38,
   "metadata": {},
   "outputs": [],
   "source": [
    "with open('shinchon_crawling.txt', 'w', encoding='utf-8') as file:\n",
    "    file.writelines(list(df[df['place']=='신촌역']['description']))\n",
    "with open('yeoksam_crawling.txt', 'w', encoding='utf-8') as file:\n",
    "    file.writelines(list(df[df['place']=='역삼역']['description']))\n",
    "with open('shinlim_crawling.txt', 'w', encoding='utf-8') as file:\n",
    "    file.writelines(list(df[df['place']=='신림역']['description']))\n"
   ]
  },
  {
   "cell_type": "code",
   "execution_count": 4,
   "metadata": {},
   "outputs": [
    {
     "data": {
      "text/plain": [
       "['C:\\\\AI_bootcamp_python\\\\CP2\\\\cp2_project\\\\do_it_gpt/bbpe\\\\vocab.json',\n",
       " 'C:\\\\AI_bootcamp_python\\\\CP2\\\\cp2_project\\\\do_it_gpt/bbpe\\\\merges.txt']"
      ]
     },
     "execution_count": 4,
     "metadata": {},
     "output_type": "execute_result"
    }
   ],
   "source": [
    "from tokenizers import ByteLevelBPETokenizer\n",
    "bytebpe_tokenizer = ByteLevelBPETokenizer()\n",
    "bytebpe_tokenizer.train(\n",
    "    files = ['shinchon_crawling.txt', 'yeoksam_crawling.txt', 'shinlim_crawling.txt'],\n",
    "    vocab_size=10000,\n",
    "    special_tokens=['[PAD]']\n",
    ")\n",
    "bytebpe_tokenizer.save_model('C:\\AI_bootcamp_python\\CP2\\cp2_project\\do_it_gpt/bbpe')"
   ]
  },
  {
   "cell_type": "code",
   "execution_count": 41,
   "metadata": {},
   "outputs": [],
   "source": [
    "import os\n",
    "os.makedirs('C:\\AI_bootcamp_python\\CP2\\cp2_project\\do_it_gpt', exist_ok=True)"
   ]
  },
  {
   "cell_type": "code",
   "execution_count": 44,
   "metadata": {},
   "outputs": [
    {
     "data": {
      "text/plain": [
       "['C:\\\\AI_bootcamp_python\\\\CP2\\\\cp2_project\\\\do_it_gpt\\\\wordpiece\\\\vocab.txt']"
      ]
     },
     "execution_count": 44,
     "metadata": {},
     "output_type": "execute_result"
    }
   ],
   "source": [
    "from tokenizers import BertWordPieceTokenizer\n",
    "wordpiece_tokenizer = BertWordPieceTokenizer(lowercase=False)\n",
    "wordpiece_tokenizer.train(\n",
    "    files=['shinchon_crawling.txt', 'yeoksam_crawling.txt', 'shinlim_crawling.txt'],\n",
    "    vocab_size=10000\n",
    ")\n",
    "wordpiece_tokenizer.save_model('C:\\AI_bootcamp_python\\CP2\\cp2_project\\do_it_gpt\\wordpiece')"
   ]
  },
  {
   "cell_type": "code",
   "execution_count": 2,
   "metadata": {},
   "outputs": [],
   "source": [
    "from transformers import GPT2Tokenizer\n",
    "tokenizer_gpt = GPT2Tokenizer.from_pretrained('C:\\AI_bootcamp_python\\CP2\\cp2_project\\do_it_gpt/bbpe')\n",
    "tokenizer_gpt.pad_token = '[PAD]'"
   ]
  },
  {
   "cell_type": "code",
   "execution_count": 3,
   "metadata": {},
   "outputs": [
    {
     "data": {
      "text/plain": [
       "{'input_ids': [[2415, 424, 465, 1000, 1016, 875, 8833, 381, 679, 2035, 0, 0, 0, 0, 0, 0, 0, 0, 0, 0], [8243, 369, 6832, 1914, 458, 1911, 7797, 1343, 381, 3007, 7119, 1605, 0, 0, 0, 0, 0, 0, 0, 0], [273, 626, 308, 2205, 452, 1939, 297, 539, 533, 3422, 5000, 268, 8972, 4376, 381, 5539, 0, 0, 0, 0], [833, 1695, 280, 291, 2837, 3966, 864, 1144, 442, 8325, 0, 0, 0, 0, 0, 0, 0, 0, 0, 0], [5334, 3196, 2061, 1093, 9797, 5267, 2044, 2819, 605, 679, 738, 0, 0, 0, 0, 0, 0, 0, 0, 0], [1395, 507, 1528, 2524, 2603, 2061, 1465, 444, 608, 858, 342, 1143, 0, 0, 0, 0, 0, 0, 0, 0], [278, 564, 9574, 289, 774, 1490, 848, 4335, 1798, 707, 4322, 774, 3368, 264, 476, 928, 0, 0, 0, 0], [472, 722, 291, 3105, 5626, 4989, 1068, 304, 1538, 4385, 357, 2988, 5854, 1389, 774, 8617, 7517, 864, 1465, 7119], [303, 727, 964, 7202, 1368, 903, 381, 2562, 2582, 1465, 1029, 2827, 4649, 2359, 264, 1144, 7827, 3042, 903, 381], [890, 2003, 291, 1558, 1288, 740, 827, 2628, 7704, 1169, 3967, 1981, 4628, 4466, 0, 0, 0, 0, 0, 0], [312, 751, 1269, 1726, 1044, 1135, 1024, 2312, 2230, 1035, 264, 2071, 762, 6485, 0, 0, 0, 0, 0, 0], [626, 890, 4957, 312, 9227, 2924, 7333, 5593, 1675, 938, 3798, 587, 736, 284, 1349, 0, 0, 0, 0, 0]], 'attention_mask': [[1, 1, 1, 1, 1, 1, 1, 1, 1, 1, 0, 0, 0, 0, 0, 0, 0, 0, 0, 0], [1, 1, 1, 1, 1, 1, 1, 1, 1, 1, 1, 1, 0, 0, 0, 0, 0, 0, 0, 0], [1, 1, 1, 1, 1, 1, 1, 1, 1, 1, 1, 1, 1, 1, 1, 1, 0, 0, 0, 0], [1, 1, 1, 1, 1, 1, 1, 1, 1, 1, 0, 0, 0, 0, 0, 0, 0, 0, 0, 0], [1, 1, 1, 1, 1, 1, 1, 1, 1, 1, 1, 0, 0, 0, 0, 0, 0, 0, 0, 0], [1, 1, 1, 1, 1, 1, 1, 1, 1, 1, 1, 1, 0, 0, 0, 0, 0, 0, 0, 0], [1, 1, 1, 1, 1, 1, 1, 1, 1, 1, 1, 1, 1, 1, 1, 1, 0, 0, 0, 0], [1, 1, 1, 1, 1, 1, 1, 1, 1, 1, 1, 1, 1, 1, 1, 1, 1, 1, 1, 1], [1, 1, 1, 1, 1, 1, 1, 1, 1, 1, 1, 1, 1, 1, 1, 1, 1, 1, 1, 1], [1, 1, 1, 1, 1, 1, 1, 1, 1, 1, 1, 1, 1, 1, 0, 0, 0, 0, 0, 0], [1, 1, 1, 1, 1, 1, 1, 1, 1, 1, 1, 1, 1, 1, 0, 0, 0, 0, 0, 0], [1, 1, 1, 1, 1, 1, 1, 1, 1, 1, 1, 1, 1, 1, 1, 0, 0, 0, 0, 0]]}"
      ]
     },
     "execution_count": 3,
     "metadata": {},
     "output_type": "execute_result"
    }
   ],
   "source": [
    "str_sentences = '신촌역에서 분 정도 걸으니 도착할 수 있었지요. 내부를 들어가기 전에 신촌역 고기집메뉴를 볼 수 있던 점도 좋았어요. 다양한 부위와 사이드가 있는 것 같아서 설레는 마음으로 들어갈 수 있었답니다. 냉장고도 깔끔하게 정리되어 있어 보였는데요. 종류별로 준비되어 있고 캠핑용으로 유명한 와인까지 있었네요. 얼마 기다리지 않아 준비되어 나온 한 상 차림이에요. 에피타이저로 좋은 샐러드부터 고기와 싸먹기에도 좋은 찬이 많더라고요. 부추도 양념이 어찌나 중독적인지 계속 손이 가더군요 신선하고 먹기 좋은 크기로 손질되어 나온 점도 고개가 끄덕여지기도 했죠. 기본적으로 고기에 찍어 먹을 수 있게끔 나온 건 와사비 쌈장 소금이 있어 다채롭게 먹을 수 있었어요. 파김치도 직접 담그셨는지 기가 막힌 맛을 자랑하더라고요. 은근 그냥 먹어도 맛있는 게 밥반찬으로도 딱이겠다 싶었네요. 양파절임은 얇게 슬라이스 되어서 제공된 소스에 잘 배어 있었어요.'\n",
    "sentences = [sentence.strip() for sentence in str_sentences.split('.')][:-1]\n",
    "\n",
    "batch_inputs = tokenizer_gpt(\n",
    "    sentences,\n",
    "    padding='max_length',   # 문장의 최대 길이에 맞춰 패딩\n",
    "    max_length=20,  # 문장의 토큰 기준 최대 길이\n",
    "    truncation=True # 문장 잘림 허용 옵션\n",
    ")\n",
    "batch_inputs"
   ]
  },
  {
   "cell_type": "code",
   "execution_count": 1,
   "metadata": {},
   "outputs": [
    {
     "name": "stderr",
     "output_type": "stream",
     "text": [
      "c:\\Users\\USERPC\\anaconda3\\envs\\cp2\\lib\\site-packages\\tqdm\\auto.py:22: TqdmWarning: IProgress not found. Please update jupyter and ipywidgets. See https://ipywidgets.readthedocs.io/en/stable/user_install.html\n",
      "  from .autonotebook import tqdm as notebook_tqdm\n"
     ]
    }
   ],
   "source": [
    "from transformers import BertTokenizer\n",
    "tokenizer_bert = BertTokenizer.from_pretrained(\n",
    "    'C:\\AI_bootcamp_python\\CP2\\cp2_project\\do_it_gpt\\wordpiece',\n",
    "    do_lower_case=False\n",
    ")"
   ]
  },
  {
   "cell_type": "code",
   "execution_count": 4,
   "metadata": {},
   "outputs": [
    {
     "data": {
      "text/plain": [
       "{'input_ids': [[2, 3264, 447, 2114, 25, 2074, 8403, 530, 2028, 2766, 3, 0, 0, 0, 0, 0, 0, 0, 0, 0], [2, 7969, 6617, 2583, 2001, 2581, 2233, 1123, 439, 530, 3356, 6846, 2387, 3, 0, 0, 0, 0, 0, 0], [2, 2150, 2764, 1337, 2596, 1061, 2006, 28, 3687, 4942, 1013, 8543, 4473, 530, 5466, 3, 0, 0, 0, 0], [2, 3740, 1023, 3218, 4103, 2065, 2173, 435, 7946, 3, 0, 0, 0, 0, 0, 0, 0, 0, 0, 0], [2, 5675, 2674, 2151, 1, 2665, 3199, 2015, 2028, 2035, 3, 0, 0, 0, 0, 0, 0, 0, 0, 0], [2, 2412, 3422, 1102, 3040, 2674, 2310, 945, 489, 777, 9792, 2064, 3, 0, 0, 0, 0, 0, 0, 0], [2, 7912, 9089, 1062, 2047, 2326, 2060, 4418, 561, 4914, 2097, 2047, 779, 1021, 9955, 3, 0, 0, 0, 0], [2, 3078, 1023, 3439, 5482, 4981, 2141, 1102, 2351, 4463, 6, 3346, 5733, 2274, 2047, 8173, 7188, 2065, 2310, 3], [2, 4959, 6873, 2265, 2086, 530, 3014, 1556, 2310, 23, 3206, 4710, 2876, 1021, 2173, 7493, 3387, 2086, 530, 3], [2, 900, 2640, 1023, 2364, 194, 1234, 1305, 3080, 7379, 349, 1147, 2628, 4670, 4543, 3, 0, 0, 0, 0], [2, 4085, 2212, 2463, 2130, 30, 412, 2849, 2813, 247, 1021, 2679, 8629, 2035, 3, 0, 0, 0, 0, 0], [2, 8250, 1039, 8791, 547, 6857, 5487, 2433, 1319, 3995, 695, 9728, 2253, 3, 0, 0, 0, 0, 0, 0]], 'token_type_ids': [[0, 0, 0, 0, 0, 0, 0, 0, 0, 0, 0, 0, 0, 0, 0, 0, 0, 0, 0, 0], [0, 0, 0, 0, 0, 0, 0, 0, 0, 0, 0, 0, 0, 0, 0, 0, 0, 0, 0, 0], [0, 0, 0, 0, 0, 0, 0, 0, 0, 0, 0, 0, 0, 0, 0, 0, 0, 0, 0, 0], [0, 0, 0, 0, 0, 0, 0, 0, 0, 0, 0, 0, 0, 0, 0, 0, 0, 0, 0, 0], [0, 0, 0, 0, 0, 0, 0, 0, 0, 0, 0, 0, 0, 0, 0, 0, 0, 0, 0, 0], [0, 0, 0, 0, 0, 0, 0, 0, 0, 0, 0, 0, 0, 0, 0, 0, 0, 0, 0, 0], [0, 0, 0, 0, 0, 0, 0, 0, 0, 0, 0, 0, 0, 0, 0, 0, 0, 0, 0, 0], [0, 0, 0, 0, 0, 0, 0, 0, 0, 0, 0, 0, 0, 0, 0, 0, 0, 0, 0, 0], [0, 0, 0, 0, 0, 0, 0, 0, 0, 0, 0, 0, 0, 0, 0, 0, 0, 0, 0, 0], [0, 0, 0, 0, 0, 0, 0, 0, 0, 0, 0, 0, 0, 0, 0, 0, 0, 0, 0, 0], [0, 0, 0, 0, 0, 0, 0, 0, 0, 0, 0, 0, 0, 0, 0, 0, 0, 0, 0, 0], [0, 0, 0, 0, 0, 0, 0, 0, 0, 0, 0, 0, 0, 0, 0, 0, 0, 0, 0, 0]], 'attention_mask': [[1, 1, 1, 1, 1, 1, 1, 1, 1, 1, 1, 0, 0, 0, 0, 0, 0, 0, 0, 0], [1, 1, 1, 1, 1, 1, 1, 1, 1, 1, 1, 1, 1, 1, 0, 0, 0, 0, 0, 0], [1, 1, 1, 1, 1, 1, 1, 1, 1, 1, 1, 1, 1, 1, 1, 1, 0, 0, 0, 0], [1, 1, 1, 1, 1, 1, 1, 1, 1, 1, 0, 0, 0, 0, 0, 0, 0, 0, 0, 0], [1, 1, 1, 1, 1, 1, 1, 1, 1, 1, 1, 0, 0, 0, 0, 0, 0, 0, 0, 0], [1, 1, 1, 1, 1, 1, 1, 1, 1, 1, 1, 1, 1, 0, 0, 0, 0, 0, 0, 0], [1, 1, 1, 1, 1, 1, 1, 1, 1, 1, 1, 1, 1, 1, 1, 1, 0, 0, 0, 0], [1, 1, 1, 1, 1, 1, 1, 1, 1, 1, 1, 1, 1, 1, 1, 1, 1, 1, 1, 1], [1, 1, 1, 1, 1, 1, 1, 1, 1, 1, 1, 1, 1, 1, 1, 1, 1, 1, 1, 1], [1, 1, 1, 1, 1, 1, 1, 1, 1, 1, 1, 1, 1, 1, 1, 1, 0, 0, 0, 0], [1, 1, 1, 1, 1, 1, 1, 1, 1, 1, 1, 1, 1, 1, 1, 0, 0, 0, 0, 0], [1, 1, 1, 1, 1, 1, 1, 1, 1, 1, 1, 1, 1, 1, 0, 0, 0, 0, 0, 0]]}"
      ]
     },
     "execution_count": 4,
     "metadata": {},
     "output_type": "execute_result"
    }
   ],
   "source": [
    "batch_inputs = tokenizer_bert(\n",
    "    sentences,\n",
    "    padding='max_length',\n",
    "    max_length=20,\n",
    "    truncation=True\n",
    ")\n",
    "batch_inputs"
   ]
  }
 ],
 "metadata": {
  "kernelspec": {
   "display_name": "cp2",
   "language": "python",
   "name": "python3"
  },
  "language_info": {
   "codemirror_mode": {
    "name": "ipython",
    "version": 3
   },
   "file_extension": ".py",
   "mimetype": "text/x-python",
   "name": "python",
   "nbconvert_exporter": "python",
   "pygments_lexer": "ipython3",
   "version": "3.8.16 (default, Jan 17 2023, 22:25:28) [MSC v.1916 64 bit (AMD64)]"
  },
  "orig_nbformat": 4,
  "vscode": {
   "interpreter": {
    "hash": "699f5f1df47bd9cd5a6cb370ac19010f3581a6948a486db3caa8ce455d93d146"
   }
  }
 },
 "nbformat": 4,
 "nbformat_minor": 2
}
