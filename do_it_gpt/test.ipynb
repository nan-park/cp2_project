{
 "cells": [
  {
   "cell_type": "code",
   "execution_count": 1,
   "metadata": {},
   "outputs": [],
   "source": [
    "import pandas as pd\n",
    "import numpy as np"
   ]
  },
  {
   "cell_type": "code",
   "execution_count": 31,
   "metadata": {},
   "outputs": [
    {
     "data": {
      "text/html": [
       "<div>\n",
       "<style scoped>\n",
       "    .dataframe tbody tr th:only-of-type {\n",
       "        vertical-align: middle;\n",
       "    }\n",
       "\n",
       "    .dataframe tbody tr th {\n",
       "        vertical-align: top;\n",
       "    }\n",
       "\n",
       "    .dataframe thead th {\n",
       "        text-align: right;\n",
       "    }\n",
       "</style>\n",
       "<table border=\"1\" class=\"dataframe\">\n",
       "  <thead>\n",
       "    <tr style=\"text-align: right;\">\n",
       "      <th></th>\n",
       "      <th>title</th>\n",
       "      <th>link</th>\n",
       "      <th>description</th>\n",
       "      <th>place</th>\n",
       "    </tr>\n",
       "  </thead>\n",
       "  <tbody>\n",
       "    <tr>\n",
       "      <th>0</th>\n",
       "      <td>합리적이였던 신촌역 고기집</td>\n",
       "      <td>https://blog.naver.com/songinpark93/222936335542</td>\n",
       "      <td>미식회관 신촌점 ■ 서울 서대문구 연세로7안길 34-6 1, 2층 ■ 12:00 -...</td>\n",
       "      <td>신촌역</td>\n",
       "    </tr>\n",
       "    <tr>\n",
       "      <th>1</th>\n",
       "      <td>이화여대 신촌역 샐러드 맛집 굿바이슈가베어 솔직후기</td>\n",
       "      <td>https://blog.naver.com/modern_dyoni/222933372090</td>\n",
       "      <td>이화여대 신촌역 샐러드 맛집 굿바이슈가베어 솔직후기 이대갔다가 샐러드가 먹고싶어서 ...</td>\n",
       "      <td>신촌역</td>\n",
       "    </tr>\n",
       "    <tr>\n",
       "      <th>2</th>\n",
       "      <td>앙버터 존맛탱 신촌역 디저트 카페 고르드</td>\n",
       "      <td>https://blog.naver.com/dhkdqnflxldz/222897227428</td>\n",
       "      <td>이번에 다녀온 #빵집투어 예전에 박박이랑 데이트할 때 자주 갔던 #신촌역빵집 겸 카...</td>\n",
       "      <td>신촌역</td>\n",
       "    </tr>\n",
       "    <tr>\n",
       "      <th>3</th>\n",
       "      <td>[먹거리 리뷰] 서울 신촌역 그랜드플라자 피자몰 신촌점...</td>\n",
       "      <td>https://blog.naver.com/sakamuts/222988678797</td>\n",
       "      <td>안녕하세요~. 유카쿠입니다. 며칠 전, 블로그 서로이웃이신 네트라핌 님과 카온 님과...</td>\n",
       "      <td>신촌역</td>\n",
       "    </tr>\n",
       "    <tr>\n",
       "      <th>4</th>\n",
       "      <td>경의선 신촌역 시간표 및 공영주차장 / 경의중앙선 신촌기차역...</td>\n",
       "      <td>https://blog.naver.com/dxsuckit69/222970302551</td>\n",
       "      <td>경의중앙선 신촌역 시간표 및 공영주차장 위치 확인하기 경의선 신촌역 앞 신촌기차역 ...</td>\n",
       "      <td>신촌역</td>\n",
       "    </tr>\n",
       "  </tbody>\n",
       "</table>\n",
       "</div>"
      ],
      "text/plain": [
       "                                   title  \\\n",
       "0                         합리적이였던 신촌역 고기집   \n",
       "1           이화여대 신촌역 샐러드 맛집 굿바이슈가베어 솔직후기   \n",
       "2                 앙버터 존맛탱 신촌역 디저트 카페 고르드   \n",
       "3     [먹거리 리뷰] 서울 신촌역 그랜드플라자 피자몰 신촌점...    \n",
       "4  경의선 신촌역 시간표 및 공영주차장 / 경의중앙선 신촌기차역...    \n",
       "\n",
       "                                               link  \\\n",
       "0  https://blog.naver.com/songinpark93/222936335542   \n",
       "1  https://blog.naver.com/modern_dyoni/222933372090   \n",
       "2  https://blog.naver.com/dhkdqnflxldz/222897227428   \n",
       "3      https://blog.naver.com/sakamuts/222988678797   \n",
       "4    https://blog.naver.com/dxsuckit69/222970302551   \n",
       "\n",
       "                                         description place  \n",
       "0  미식회관 신촌점 ■ 서울 서대문구 연세로7안길 34-6 1, 2층 ■ 12:00 -...   신촌역  \n",
       "1  이화여대 신촌역 샐러드 맛집 굿바이슈가베어 솔직후기 이대갔다가 샐러드가 먹고싶어서 ...   신촌역  \n",
       "2  이번에 다녀온 #빵집투어 예전에 박박이랑 데이트할 때 자주 갔던 #신촌역빵집 겸 카...   신촌역  \n",
       "3  안녕하세요~. 유카쿠입니다. 며칠 전, 블로그 서로이웃이신 네트라핌 님과 카온 님과...   신촌역  \n",
       "4  경의중앙선 신촌역 시간표 및 공영주차장 위치 확인하기 경의선 신촌역 앞 신촌기차역 ...   신촌역  "
      ]
     },
     "execution_count": 31,
     "metadata": {},
     "output_type": "execute_result"
    }
   ],
   "source": [
    "df_shinchon = pd.read_csv('../blog_crawling/crawling_shinchon.csv')\n",
    "df_yeoksam = pd.read_csv('../blog_crawling/crawling_yeoksam.csv')\n",
    "df_shinlim = pd.read_csv('../blog_crawling/crawling_shinlim.csv')\n",
    "\n",
    "df_shinchon['place'] = '신촌역'\n",
    "df_yeoksam['place'] = '역삼역'\n",
    "df_shinlim['place'] = '신림역'\n",
    "\n",
    "df = pd.concat([df_shinchon, df_yeoksam, df_shinlim])\n",
    "df.drop('Unnamed: 0', axis=1, inplace=True)\n",
    "df.head()"
   ]
  },
  {
   "cell_type": "code",
   "execution_count": 32,
   "metadata": {},
   "outputs": [
    {
     "data": {
      "text/plain": [
       "0       미식회관 신촌점 ■ 서울 서대문구 연세로7안길 34-6 1, 2층 ■ 12:00 -...\n",
       "1       이화여대 신촌역 샐러드 맛집 굿바이슈가베어 솔직후기 이대갔다가 샐러드가 먹고싶어서 ...\n",
       "2       이번에 다녀온 #빵집투어 예전에 박박이랑 데이트할 때 자주 갔던 #신촌역빵집 겸 카...\n",
       "3       안녕하세요~. 유카쿠입니다. 며칠 전, 블로그 서로이웃이신 네트라핌 님과 카온 님과...\n",
       "4       경의중앙선 신촌역 시간표 및 공영주차장 위치 확인하기 경의선 신촌역 앞 신촌기차역 ...\n",
       "                              ...                        \n",
       "1084    안녕하세요. 창업등대입니다. 이번 상권분석 지역은 신촌역입니다. 신촌역 상권은 서대...\n",
       "1085    W H E R E #신촌역카페 #고르드 밥 먹으러 가기전에 잠깐 시간도 떼우고 요기...\n",
       "1086    먹으러다녀요 맛난곳 747개의 글 맛난곳 목록열기 [신촌역] 모스버거 신촌현대점 M...\n",
       "1087    안녕하네요! 추석 잘 보내고 돌아온 밍구입니다~ 얼마 전 핸드폰고치느라 신촌역에 갔...\n",
       "1088    블로그 먹방 862개의 글 먹방 목록열기 [신촌맛집] 찰스숯불김밥 /~ 신촌역 근처...\n",
       "Name: description, Length: 1089, dtype: object"
      ]
     },
     "execution_count": 32,
     "metadata": {},
     "output_type": "execute_result"
    }
   ],
   "source": [
    "df[df['place']=='신촌역']['description']"
   ]
  },
  {
   "cell_type": "code",
   "execution_count": 33,
   "metadata": {},
   "outputs": [
    {
     "name": "stderr",
     "output_type": "stream",
     "text": [
      "C:\\Users\\USERPC\\AppData\\Local\\Temp\\ipykernel_2516\\3159965498.py:1: FutureWarning: The default value of regex will change from True to False in a future version.\n",
      "  df['description'] = df['description'].str.replace('[^가-힣 \\.]', '')\n"
     ]
    }
   ],
   "source": [
    "df['description'] = df['description'].str.replace('[^가-힣 \\.]', '')"
   ]
  },
  {
   "cell_type": "code",
   "execution_count": 34,
   "metadata": {},
   "outputs": [
    {
     "data": {
      "text/html": [
       "<div>\n",
       "<style scoped>\n",
       "    .dataframe tbody tr th:only-of-type {\n",
       "        vertical-align: middle;\n",
       "    }\n",
       "\n",
       "    .dataframe tbody tr th {\n",
       "        vertical-align: top;\n",
       "    }\n",
       "\n",
       "    .dataframe thead th {\n",
       "        text-align: right;\n",
       "    }\n",
       "</style>\n",
       "<table border=\"1\" class=\"dataframe\">\n",
       "  <thead>\n",
       "    <tr style=\"text-align: right;\">\n",
       "      <th></th>\n",
       "      <th>title</th>\n",
       "      <th>link</th>\n",
       "      <th>description</th>\n",
       "      <th>place</th>\n",
       "    </tr>\n",
       "  </thead>\n",
       "  <tbody>\n",
       "    <tr>\n",
       "      <th>0</th>\n",
       "      <td>합리적이였던 신촌역 고기집</td>\n",
       "      <td>https://blog.naver.com/songinpark93/222936335542</td>\n",
       "      <td>미식회관 신촌점  서울 서대문구 연세로안길   층    새벽 까지 라스트오더 시  ...</td>\n",
       "      <td>신촌역</td>\n",
       "    </tr>\n",
       "    <tr>\n",
       "      <th>1</th>\n",
       "      <td>이화여대 신촌역 샐러드 맛집 굿바이슈가베어 솔직후기</td>\n",
       "      <td>https://blog.naver.com/modern_dyoni/222933372090</td>\n",
       "      <td>이화여대 신촌역 샐러드 맛집 굿바이슈가베어 솔직후기 이대갔다가 샐러드가 먹고싶어서 ...</td>\n",
       "      <td>신촌역</td>\n",
       "    </tr>\n",
       "    <tr>\n",
       "      <th>2</th>\n",
       "      <td>앙버터 존맛탱 신촌역 디저트 카페 고르드</td>\n",
       "      <td>https://blog.naver.com/dhkdqnflxldz/222897227428</td>\n",
       "      <td>이번에 다녀온 빵집투어 예전에 박박이랑 데이트할 때 자주 갔던 신촌역빵집 겸 카페인...</td>\n",
       "      <td>신촌역</td>\n",
       "    </tr>\n",
       "    <tr>\n",
       "      <th>3</th>\n",
       "      <td>[먹거리 리뷰] 서울 신촌역 그랜드플라자 피자몰 신촌점...</td>\n",
       "      <td>https://blog.naver.com/sakamuts/222988678797</td>\n",
       "      <td>안녕하세요. 유카쿠입니다. 며칠 전 블로그 서로이웃이신 네트라핌 님과 카온 님과 함...</td>\n",
       "      <td>신촌역</td>\n",
       "    </tr>\n",
       "    <tr>\n",
       "      <th>4</th>\n",
       "      <td>경의선 신촌역 시간표 및 공영주차장 / 경의중앙선 신촌기차역...</td>\n",
       "      <td>https://blog.naver.com/dxsuckit69/222970302551</td>\n",
       "      <td>경의중앙선 신촌역 시간표 및 공영주차장 위치 확인하기 경의선 신촌역 앞 신촌기차역 ...</td>\n",
       "      <td>신촌역</td>\n",
       "    </tr>\n",
       "    <tr>\n",
       "      <th>...</th>\n",
       "      <td>...</td>\n",
       "      <td>...</td>\n",
       "      <td>...</td>\n",
       "      <td>...</td>\n",
       "    </tr>\n",
       "    <tr>\n",
       "      <th>1089</th>\n",
       "      <td>[동네이야기] 신림역  모하 스터디카페(moha study cafe)</td>\n",
       "      <td>https://blog.naver.com/onion22222/222958018764</td>\n",
       "      <td>안녕하세요  재원 행정사가 위치한 신림역의 동네이야기입니다. 고시공부로 유명한 동네...</td>\n",
       "      <td>신림역</td>\n",
       "    </tr>\n",
       "    <tr>\n",
       "      <th>1090</th>\n",
       "      <td>신림역네일 귀여운 디자인 ♡ 네일나린</td>\n",
       "      <td>https://blog.naver.com/moony1212/222914338632</td>\n",
       "      <td>해피 할로윈을 귀여운 호박 유령 디자인 네일아트와 함께 해요 집에 와서 할로윈 장식...</td>\n",
       "      <td>신림역</td>\n",
       "    </tr>\n",
       "    <tr>\n",
       "      <th>1091</th>\n",
       "      <td>신림역 데이트 저녁 코스 [신랑과 둘이 아바타보러가요]</td>\n",
       "      <td>https://blog.naver.com/smile-daisy/222957379495</td>\n",
       "      <td>어제 진행된 저녁 코스입니다. 다들 이 정도 일정으로 살고 계시죠 .직장 업무마무리...</td>\n",
       "      <td>신림역</td>\n",
       "    </tr>\n",
       "    <tr>\n",
       "      <th>1092</th>\n",
       "      <td>신림역 인기 고구마 붕어빵</td>\n",
       "      <td>https://blog.naver.com/94bae/222967762905</td>\n",
       "      <td>안녕하세요 래렁 입니다. 요즘같이 추운 겨울철에는 주머니에 천원짜리 몇장씩 꼭 들고...</td>\n",
       "      <td>신림역</td>\n",
       "    </tr>\n",
       "    <tr>\n",
       "      <th>1093</th>\n",
       "      <td>[흥부보쌈] 35년 꾸준히 사랑 받은 신림역 보쌈 맛집</td>\n",
       "      <td>https://blog.naver.com/jang9369/222929342973</td>\n",
       "      <td>안녕하세요 미식산책입니다  고등학교 시절부터 신림동에 한결같은 맛으로 사랑받은 흥부...</td>\n",
       "      <td>신림역</td>\n",
       "    </tr>\n",
       "  </tbody>\n",
       "</table>\n",
       "<p>3273 rows × 4 columns</p>\n",
       "</div>"
      ],
      "text/plain": [
       "                                       title  \\\n",
       "0                             합리적이였던 신촌역 고기집   \n",
       "1               이화여대 신촌역 샐러드 맛집 굿바이슈가베어 솔직후기   \n",
       "2                     앙버터 존맛탱 신촌역 디저트 카페 고르드   \n",
       "3         [먹거리 리뷰] 서울 신촌역 그랜드플라자 피자몰 신촌점...    \n",
       "4      경의선 신촌역 시간표 및 공영주차장 / 경의중앙선 신촌기차역...    \n",
       "...                                      ...   \n",
       "1089  [동네이야기] 신림역  모하 스터디카페(moha study cafe)   \n",
       "1090                    신림역네일 귀여운 디자인 ♡ 네일나린   \n",
       "1091          신림역 데이트 저녁 코스 [신랑과 둘이 아바타보러가요]   \n",
       "1092                          신림역 인기 고구마 붕어빵   \n",
       "1093          [흥부보쌈] 35년 꾸준히 사랑 받은 신림역 보쌈 맛집   \n",
       "\n",
       "                                                  link  \\\n",
       "0     https://blog.naver.com/songinpark93/222936335542   \n",
       "1     https://blog.naver.com/modern_dyoni/222933372090   \n",
       "2     https://blog.naver.com/dhkdqnflxldz/222897227428   \n",
       "3         https://blog.naver.com/sakamuts/222988678797   \n",
       "4       https://blog.naver.com/dxsuckit69/222970302551   \n",
       "...                                                ...   \n",
       "1089    https://blog.naver.com/onion22222/222958018764   \n",
       "1090     https://blog.naver.com/moony1212/222914338632   \n",
       "1091   https://blog.naver.com/smile-daisy/222957379495   \n",
       "1092         https://blog.naver.com/94bae/222967762905   \n",
       "1093      https://blog.naver.com/jang9369/222929342973   \n",
       "\n",
       "                                            description place  \n",
       "0     미식회관 신촌점  서울 서대문구 연세로안길   층    새벽 까지 라스트오더 시  ...   신촌역  \n",
       "1     이화여대 신촌역 샐러드 맛집 굿바이슈가베어 솔직후기 이대갔다가 샐러드가 먹고싶어서 ...   신촌역  \n",
       "2     이번에 다녀온 빵집투어 예전에 박박이랑 데이트할 때 자주 갔던 신촌역빵집 겸 카페인...   신촌역  \n",
       "3     안녕하세요. 유카쿠입니다. 며칠 전 블로그 서로이웃이신 네트라핌 님과 카온 님과 함...   신촌역  \n",
       "4     경의중앙선 신촌역 시간표 및 공영주차장 위치 확인하기 경의선 신촌역 앞 신촌기차역 ...   신촌역  \n",
       "...                                                 ...   ...  \n",
       "1089  안녕하세요  재원 행정사가 위치한 신림역의 동네이야기입니다. 고시공부로 유명한 동네...   신림역  \n",
       "1090  해피 할로윈을 귀여운 호박 유령 디자인 네일아트와 함께 해요 집에 와서 할로윈 장식...   신림역  \n",
       "1091  어제 진행된 저녁 코스입니다. 다들 이 정도 일정으로 살고 계시죠 .직장 업무마무리...   신림역  \n",
       "1092  안녕하세요 래렁 입니다. 요즘같이 추운 겨울철에는 주머니에 천원짜리 몇장씩 꼭 들고...   신림역  \n",
       "1093  안녕하세요 미식산책입니다  고등학교 시절부터 신림동에 한결같은 맛으로 사랑받은 흥부...   신림역  \n",
       "\n",
       "[3273 rows x 4 columns]"
      ]
     },
     "execution_count": 34,
     "metadata": {},
     "output_type": "execute_result"
    }
   ],
   "source": [
    "df"
   ]
  },
  {
   "cell_type": "code",
   "execution_count": 38,
   "metadata": {},
   "outputs": [],
   "source": [
    "with open('shinchon_crawling.txt', 'w', encoding='utf-8') as file:\n",
    "    file.writelines(list(df[df['place']=='신촌역']['description']))\n",
    "with open('yeoksam_crawling.txt', 'w', encoding='utf-8') as file:\n",
    "    file.writelines(list(df[df['place']=='역삼역']['description']))\n",
    "with open('shinlim_crawling.txt', 'w', encoding='utf-8') as file:\n",
    "    file.writelines(list(df[df['place']=='신림역']['description']))\n"
   ]
  },
  {
   "cell_type": "code",
   "execution_count": 40,
   "metadata": {},
   "outputs": [
    {
     "data": {
      "text/plain": [
       "['C:\\\\AI_bootcamp_python\\\\CP2\\\\cp2_project\\\\do_it_gpt\\\\vocab.json',\n",
       " 'C:\\\\AI_bootcamp_python\\\\CP2\\\\cp2_project\\\\do_it_gpt\\\\merges.txt']"
      ]
     },
     "execution_count": 40,
     "metadata": {},
     "output_type": "execute_result"
    }
   ],
   "source": [
    "from tokenizers import ByteLevelBPETokenizer\n",
    "bytebpe_tokenizer = ByteLevelBPETokenizer()\n",
    "bytebpe_tokenizer.train(\n",
    "    files = ['shinchon_crawling.txt', 'yeoksam_crawling.txt', 'shinlim_crawling.txt'],\n",
    "    vocab_size=10000,\n",
    "    special_tokens=['[PAD]']\n",
    ")\n",
    "bytebpe_tokenizer.save_model('C:\\AI_bootcamp_python\\CP2\\cp2_project\\do_it_gpt')"
   ]
  },
  {
   "cell_type": "code",
   "execution_count": 41,
   "metadata": {},
   "outputs": [],
   "source": [
    "import os\n",
    "os.makedirs('C:\\AI_bootcamp_python\\CP2\\cp2_project\\do_it_gpt', exist_ok=True)"
   ]
  },
  {
   "cell_type": "code",
   "execution_count": 44,
   "metadata": {},
   "outputs": [
    {
     "data": {
      "text/plain": [
       "['C:\\\\AI_bootcamp_python\\\\CP2\\\\cp2_project\\\\do_it_gpt\\\\wordpiece\\\\vocab.txt']"
      ]
     },
     "execution_count": 44,
     "metadata": {},
     "output_type": "execute_result"
    }
   ],
   "source": [
    "from tokenizers import BertWordPieceTokenizer\n",
    "wordpiece_tokenizer = BertWordPieceTokenizer(lowercase=False)\n",
    "wordpiece_tokenizer.train(\n",
    "    files=['shinchon_crawling.txt', 'yeoksam_crawling.txt', 'shinlim_crawling.txt'],\n",
    "    vocab_size=10000\n",
    ")\n",
    "wordpiece_tokenizer.save_model('C:\\AI_bootcamp_python\\CP2\\cp2_project\\do_it_gpt\\wordpiece')"
   ]
  },
  {
   "cell_type": "code",
   "execution_count": null,
   "metadata": {},
   "outputs": [],
   "source": []
  }
 ],
 "metadata": {
  "kernelspec": {
   "display_name": "cp2",
   "language": "python",
   "name": "python3"
  },
  "language_info": {
   "codemirror_mode": {
    "name": "ipython",
    "version": 3
   },
   "file_extension": ".py",
   "mimetype": "text/x-python",
   "name": "python",
   "nbconvert_exporter": "python",
   "pygments_lexer": "ipython3",
   "version": "3.8.16"
  },
  "orig_nbformat": 4,
  "vscode": {
   "interpreter": {
    "hash": "699f5f1df47bd9cd5a6cb370ac19010f3581a6948a486db3caa8ce455d93d146"
   }
  }
 },
 "nbformat": 4,
 "nbformat_minor": 2
}
