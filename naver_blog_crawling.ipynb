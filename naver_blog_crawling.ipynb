{
 "cells": [
  {
   "cell_type": "code",
   "execution_count": 1,
   "metadata": {},
   "outputs": [],
   "source": [
    "import pandas as pd\n",
    "import numpy as np\n",
    "from naver_blog_search import get_title_link, get_description"
   ]
  },
  {
   "cell_type": "code",
   "execution_count": 26,
   "metadata": {},
   "outputs": [
    {
     "name": "stdout",
     "output_type": "stream",
     "text": [
      "get title, link 0\n",
      "get title, link 1\n",
      "get title, link 2\n",
      "get title, link 3\n",
      "get title, link 4\n",
      "get title, link 5\n",
      "get title, link 6\n",
      "get title, link 7\n",
      "get title, link 8\n",
      "get title, link 9\n",
      "완료\n"
     ]
    }
   ],
   "source": [
    "CLIENT_ID = \"MbuEYulgGLLeJwRW2ugN\"\n",
    "CLIENT_SECRET = \"_igAnMpGRM\"\n",
    "df = pd.DataFrame()\n",
    "\n",
    "for i in range(0, 10):\n",
    "    df = get_title_link(df, '역삼역', CLIENT_ID, CLIENT_SECRET, start=i*100+1)\n",
    "    print(f'get title, link {i}')\n",
    "df = get_title_link(df, '역삼역', CLIENT_ID, CLIENT_SECRET, start=1000)\n",
    "df = df.reset_index(drop=True)\n",
    "drop_index = df[df.duplicated()].index\n",
    "df = df.drop(drop_index, axis=0)\n",
    "print(\"완료\")\n"
   ]
  },
  {
   "cell_type": "code",
   "execution_count": 27,
   "metadata": {},
   "outputs": [
    {
     "data": {
      "text/html": [
       "<div>\n",
       "<style scoped>\n",
       "    .dataframe tbody tr th:only-of-type {\n",
       "        vertical-align: middle;\n",
       "    }\n",
       "\n",
       "    .dataframe tbody tr th {\n",
       "        vertical-align: top;\n",
       "    }\n",
       "\n",
       "    .dataframe thead th {\n",
       "        text-align: right;\n",
       "    }\n",
       "</style>\n",
       "<table border=\"1\" class=\"dataframe\">\n",
       "  <thead>\n",
       "    <tr style=\"text-align: right;\">\n",
       "      <th></th>\n",
       "      <th>title</th>\n",
       "      <th>link</th>\n",
       "      <th>description</th>\n",
       "    </tr>\n",
       "  </thead>\n",
       "  <tbody>\n",
       "    <tr>\n",
       "      <th>0</th>\n",
       "      <td>프라이빗 룸있는 역삼역 회식장소</td>\n",
       "      <td>https://blog.naver.com/vnawmd9233/222958363823</td>\n",
       "      <td>네모집 역삼점은 룸에서 먹었던 선도 높은 목살과 항정살이 정말 맛있었고, 양도 푸짐...</td>\n",
       "    </tr>\n",
       "    <tr>\n",
       "      <th>1</th>\n",
       "      <td>역삼역 중식당 차이들 언주점 재방문 후기</td>\n",
       "      <td>https://blog.naver.com/sonbogong/222989812788</td>\n",
       "      <td>만족하는 역삼역 중식당인 차이들 언주점에 방문했네요. 합리적인 금액과 수준 높은 중...</td>\n",
       "    </tr>\n",
       "    <tr>\n",
       "      <th>2</th>\n",
       "      <td>역삼역 고기집 대작 돼지갈비 연말모임 장소</td>\n",
       "      <td>https://blog.naver.com/kizaki56/222945638980</td>\n",
       "      <td>역삼역 고기집 대작 돼지갈비 연말모임 장소 안녕하세요 몽몽이에요 이제 12월이 되어...</td>\n",
       "    </tr>\n",
       "    <tr>\n",
       "      <th>3</th>\n",
       "      <td>역삼역 닭갈비 : 부담없이 먹기 좋은 저녁 메뉴 닭갈비...</td>\n",
       "      <td>https://blog.naver.com/hahaha_1226/222987731681</td>\n",
       "      <td>오늘 소개할 곳은 역삼역 닭갈비 맛집 장인 닭갈비 강남점 입니다  서울 강남구 테헤...</td>\n",
       "    </tr>\n",
       "    <tr>\n",
       "      <th>4</th>\n",
       "      <td>고즈넉한 분위기의 역삼역 고기집 조선부뚜막 추천</td>\n",
       "      <td>https://blog.naver.com/afineday2/222967406337</td>\n",
       "      <td>위해 역삼역 고깃집 조선부뚜막을 방문했다. 하루가 멀다 하고 새로운 음식점이 생기고...</td>\n",
       "    </tr>\n",
       "    <tr>\n",
       "      <th>...</th>\n",
       "      <td>...</td>\n",
       "      <td>...</td>\n",
       "      <td>...</td>\n",
       "    </tr>\n",
       "    <tr>\n",
       "      <th>1095</th>\n",
       "      <td>2호선 역삼역</td>\n",
       "      <td>https://blog.naver.com/yeogistation/222567089515</td>\n",
       "      <td>강남구 역삼동의 2호선 역삼역인데요. 어느샌가 부역명으로 '센터필드'라고 하는......</td>\n",
       "    </tr>\n",
       "    <tr>\n",
       "      <th>1096</th>\n",
       "      <td>역삼역 피부과 고민에 따른 적합한 관리를 진행해야</td>\n",
       "      <td>https://blog.naver.com/mari098b/222937194587</td>\n",
       "      <td>역삼역 피부과 고민에 따른 적합한 관리를 진행해야 계절과 같이 환경의 영향을 크게 ...</td>\n",
       "    </tr>\n",
       "    <tr>\n",
       "      <th>1097</th>\n",
       "      <td>역삼역 미용실 매직셋팅 s컬 완죤 잘 하는 르오라헤어</td>\n",
       "      <td>https://blog.naver.com/pchh9153/222974785017</td>\n",
       "      <td>역삼역 미용실 컷트는 예쁜 s컬을 위해 레이어드로 자르고 열펌으로 매직셋팅 할려면 ...</td>\n",
       "    </tr>\n",
       "    <tr>\n",
       "      <th>1098</th>\n",
       "      <td>역삼 점메추? 역삼역 직장인 가성비 맛집 추천 &amp;lt;내고향 김치요리...</td>\n",
       "      <td>https://blog.naver.com/shichichi/222967942475</td>\n",
       "      <td>어려움 ✔️ 역삼 떠나면 생각날 듯 역삼역 내고향 김치요리 돌판삼겹살 재방문 의사 ...</td>\n",
       "    </tr>\n",
       "    <tr>\n",
       "      <th>1099</th>\n",
       "      <td>토속청국장ː 역삼역 가성비 최고 한식 맛집</td>\n",
       "      <td>https://blog.naver.com/worklifeblending/222946...</td>\n",
       "      <td>솔직히 이 김치찜만 있어도 밥 한 그릇 뚝딱 먹을 수 있다*^^* 역삼역 점심 맛집...</td>\n",
       "    </tr>\n",
       "  </tbody>\n",
       "</table>\n",
       "<p>1099 rows × 3 columns</p>\n",
       "</div>"
      ],
      "text/plain": [
       "                                           title  \\\n",
       "0                              프라이빗 룸있는 역삼역 회식장소   \n",
       "1                         역삼역 중식당 차이들 언주점 재방문 후기   \n",
       "2                        역삼역 고기집 대작 돼지갈비 연말모임 장소   \n",
       "3             역삼역 닭갈비 : 부담없이 먹기 좋은 저녁 메뉴 닭갈비...    \n",
       "4                     고즈넉한 분위기의 역삼역 고기집 조선부뚜막 추천   \n",
       "...                                          ...   \n",
       "1095                                     2호선 역삼역   \n",
       "1096                 역삼역 피부과 고민에 따른 적합한 관리를 진행해야   \n",
       "1097               역삼역 미용실 매직셋팅 s컬 완죤 잘 하는 르오라헤어   \n",
       "1098  역삼 점메추? 역삼역 직장인 가성비 맛집 추천 &lt;내고향 김치요리...    \n",
       "1099                     토속청국장ː 역삼역 가성비 최고 한식 맛집   \n",
       "\n",
       "                                                   link  \\\n",
       "0        https://blog.naver.com/vnawmd9233/222958363823   \n",
       "1         https://blog.naver.com/sonbogong/222989812788   \n",
       "2          https://blog.naver.com/kizaki56/222945638980   \n",
       "3       https://blog.naver.com/hahaha_1226/222987731681   \n",
       "4         https://blog.naver.com/afineday2/222967406337   \n",
       "...                                                 ...   \n",
       "1095   https://blog.naver.com/yeogistation/222567089515   \n",
       "1096       https://blog.naver.com/mari098b/222937194587   \n",
       "1097       https://blog.naver.com/pchh9153/222974785017   \n",
       "1098      https://blog.naver.com/shichichi/222967942475   \n",
       "1099  https://blog.naver.com/worklifeblending/222946...   \n",
       "\n",
       "                                            description  \n",
       "0     네모집 역삼점은 룸에서 먹었던 선도 높은 목살과 항정살이 정말 맛있었고, 양도 푸짐...  \n",
       "1     만족하는 역삼역 중식당인 차이들 언주점에 방문했네요. 합리적인 금액과 수준 높은 중...  \n",
       "2     역삼역 고기집 대작 돼지갈비 연말모임 장소 안녕하세요 몽몽이에요 이제 12월이 되어...  \n",
       "3     오늘 소개할 곳은 역삼역 닭갈비 맛집 장인 닭갈비 강남점 입니다  서울 강남구 테헤...  \n",
       "4     위해 역삼역 고깃집 조선부뚜막을 방문했다. 하루가 멀다 하고 새로운 음식점이 생기고...  \n",
       "...                                                 ...  \n",
       "1095  강남구 역삼동의 2호선 역삼역인데요. 어느샌가 부역명으로 '센터필드'라고 하는......  \n",
       "1096  역삼역 피부과 고민에 따른 적합한 관리를 진행해야 계절과 같이 환경의 영향을 크게 ...  \n",
       "1097  역삼역 미용실 컷트는 예쁜 s컬을 위해 레이어드로 자르고 열펌으로 매직셋팅 할려면 ...  \n",
       "1098  어려움 ✔️ 역삼 떠나면 생각날 듯 역삼역 내고향 김치요리 돌판삼겹살 재방문 의사 ...  \n",
       "1099  솔직히 이 김치찜만 있어도 밥 한 그릇 뚝딱 먹을 수 있다*^^* 역삼역 점심 맛집...  \n",
       "\n",
       "[1099 rows x 3 columns]"
      ]
     },
     "execution_count": 27,
     "metadata": {},
     "output_type": "execute_result"
    }
   ],
   "source": [
    "df"
   ]
  },
  {
   "cell_type": "code",
   "execution_count": 28,
   "metadata": {},
   "outputs": [
    {
     "data": {
      "text/plain": [
       "(1090, 3)"
      ]
     },
     "execution_count": 28,
     "metadata": {},
     "output_type": "execute_result"
    }
   ],
   "source": [
    "# naver 블로그만 가져오기\n",
    "import numpy as np\n",
    "df = df[df['link'].str.find('naver')!=-1]\n",
    "df.shape"
   ]
  },
  {
   "cell_type": "code",
   "execution_count": 29,
   "metadata": {},
   "outputs": [
    {
     "data": {
      "text/plain": [
       "0"
      ]
     },
     "execution_count": 29,
     "metadata": {},
     "output_type": "execute_result"
    }
   ],
   "source": [
    "df.duplicated().sum()"
   ]
  },
  {
   "cell_type": "code",
   "execution_count": 1,
   "metadata": {},
   "outputs": [
    {
     "ename": "NameError",
     "evalue": "name 'df' is not defined",
     "output_type": "error",
     "traceback": [
      "\u001b[1;31m---------------------------------------------------------------------------\u001b[0m",
      "\u001b[1;31mNameError\u001b[0m                                 Traceback (most recent call last)",
      "Cell \u001b[1;32mIn[1], line 1\u001b[0m\n\u001b[1;32m----> 1\u001b[0m df\u001b[39m.\u001b[39mto_csv(\u001b[39m'\u001b[39m\u001b[39mtitle_link.csv\u001b[39m\u001b[39m'\u001b[39m)\n\u001b[0;32m      2\u001b[0m \u001b[39mprint\u001b[39m(\u001b[39m'\u001b[39m\u001b[39mto_csv\u001b[39m\u001b[39m'\u001b[39m)\n",
      "\u001b[1;31mNameError\u001b[0m: name 'df' is not defined"
     ]
    }
   ],
   "source": [
    "df.to_csv('title_link.csv')\n",
    "print('to_csv')"
   ]
  },
  {
   "cell_type": "code",
   "execution_count": 2,
   "metadata": {},
   "outputs": [
    {
     "data": {
      "text/plain": [
       "Int64Index([992, 993, 994, 995, 996, 997, 998, 999], dtype='int64')"
      ]
     },
     "execution_count": 2,
     "metadata": {},
     "output_type": "execute_result"
    }
   ],
   "source": [
    "df = pd.read_csv('test.csv')\n",
    "df.drop('Unnamed: 0', axis=1, inplace=True)\n",
    "nan_index = df[df['description'].isnull()].index\n",
    "nan_index"
   ]
  },
  {
   "cell_type": "code",
   "execution_count": 3,
   "metadata": {},
   "outputs": [
    {
     "data": {
      "text/plain": [
       "992        https://blog.naver.com/daesuk217/222691601041\n",
       "993     https://blog.naver.com/variationart/222904022512\n",
       "994    https://blog.naver.com/asianbeautyme/222947346787\n",
       "995     https://blog.naver.com/singleflower/222982836800\n",
       "996        https://blog.naver.com/qotndhrqo/222692478263\n",
       "997          https://blog.naver.com/minar12/222623393083\n",
       "998          https://blog.naver.com/smspkkb/222620049402\n",
       "999       https://blog.naver.com/travelhola/222596001683\n",
       "Name: link, dtype: object"
      ]
     },
     "execution_count": 3,
     "metadata": {},
     "output_type": "execute_result"
    }
   ],
   "source": [
    "df['link'][nan_index]"
   ]
  },
  {
   "cell_type": "code",
   "execution_count": 4,
   "metadata": {},
   "outputs": [
    {
     "data": {
      "text/html": [
       "<div>\n",
       "<style scoped>\n",
       "    .dataframe tbody tr th:only-of-type {\n",
       "        vertical-align: middle;\n",
       "    }\n",
       "\n",
       "    .dataframe tbody tr th {\n",
       "        vertical-align: top;\n",
       "    }\n",
       "\n",
       "    .dataframe thead th {\n",
       "        text-align: right;\n",
       "    }\n",
       "</style>\n",
       "<table border=\"1\" class=\"dataframe\">\n",
       "  <thead>\n",
       "    <tr style=\"text-align: right;\">\n",
       "      <th></th>\n",
       "      <th>title</th>\n",
       "      <th>link</th>\n",
       "      <th>description</th>\n",
       "    </tr>\n",
       "  </thead>\n",
       "  <tbody>\n",
       "    <tr>\n",
       "      <th>0</th>\n",
       "      <td>프라이빗 룸있는 역삼역 회식장소</td>\n",
       "      <td>https://blog.naver.com/vnawmd9233/222958363823</td>\n",
       "      <td>얼마전 팀장님께서 회식 때 고기를 사주신다길래 인터넷에서 추천 받은 네모집 역삼점을...</td>\n",
       "    </tr>\n",
       "    <tr>\n",
       "      <th>1</th>\n",
       "      <td>역삼역 중식당 차이들 언주점 재방문 후기</td>\n",
       "      <td>https://blog.naver.com/sonbogong/222989812788</td>\n",
       "      <td>방문 때마다 만족하는 차이들 언주점 합리적인 중식당 지난 주말에는 여자친구 친구들과...</td>\n",
       "    </tr>\n",
       "    <tr>\n",
       "      <th>2</th>\n",
       "      <td>역삼역 고기집 대작 돼지갈비 연말모임 장소</td>\n",
       "      <td>https://blog.naver.com/kizaki56/222945638980</td>\n",
       "      <td>역삼역 고기집 대작 돼지갈비 연말모임 장소 안녕하세요 몽몽이에요 이제 12월이 되어...</td>\n",
       "    </tr>\n",
       "    <tr>\n",
       "      <th>3</th>\n",
       "      <td>역삼역 닭갈비 : 부담없이 먹기 좋은 저녁 메뉴 닭갈비...</td>\n",
       "      <td>https://blog.naver.com/hahaha_1226/222987731681</td>\n",
       "      <td>안녕하세요! 오늘 소개할 곳은 역삼역 닭갈비 맛집 장인 닭갈비 강남점 입니다 📍 서...</td>\n",
       "    </tr>\n",
       "    <tr>\n",
       "      <th>4</th>\n",
       "      <td>고즈넉한 분위기의 역삼역 고기집 조선부뚜막 추천</td>\n",
       "      <td>https://blog.naver.com/afineday2/222967406337</td>\n",
       "      <td>올해도 어느새 일주일밖에 남지 않았다. 한 해의 묵은 때를 벗겨냄과 동시에 내년에는...</td>\n",
       "    </tr>\n",
       "    <tr>\n",
       "      <th>...</th>\n",
       "      <td>...</td>\n",
       "      <td>...</td>\n",
       "      <td>...</td>\n",
       "    </tr>\n",
       "    <tr>\n",
       "      <th>995</th>\n",
       "      <td>역삼역 피부관리 엘스킨라운지에서 데일리케어 받고 왔어요</td>\n",
       "      <td>https://blog.naver.com/singleflower/222982836800</td>\n",
       "      <td>NaN</td>\n",
       "    </tr>\n",
       "    <tr>\n",
       "      <th>996</th>\n",
       "      <td>[역삼역 맛집, 하몽하몽이베리코] 육즙 터지는 역삼역 고기집</td>\n",
       "      <td>https://blog.naver.com/qotndhrqo/222692478263</td>\n",
       "      <td>NaN</td>\n",
       "    </tr>\n",
       "    <tr>\n",
       "      <th>997</th>\n",
       "      <td>역삼역 나주가에서 나주곰탕을 먹어치우다!</td>\n",
       "      <td>https://blog.naver.com/minar12/222623393083</td>\n",
       "      <td>NaN</td>\n",
       "    </tr>\n",
       "    <tr>\n",
       "      <th>998</th>\n",
       "      <td>동궁빌딩 임대, 역삼역 사무실 (강남 역삼동)</td>\n",
       "      <td>https://blog.naver.com/smspkkb/222620049402</td>\n",
       "      <td>NaN</td>\n",
       "    </tr>\n",
       "    <tr>\n",
       "      <th>999</th>\n",
       "      <td>역삼역 점심 철판쭈꾸미 뿔난황소곱창 런치메뉴</td>\n",
       "      <td>https://blog.naver.com/travelhola/222596001683</td>\n",
       "      <td>NaN</td>\n",
       "    </tr>\n",
       "  </tbody>\n",
       "</table>\n",
       "<p>1000 rows × 3 columns</p>\n",
       "</div>"
      ],
      "text/plain": [
       "                                  title  \\\n",
       "0                     프라이빗 룸있는 역삼역 회식장소   \n",
       "1                역삼역 중식당 차이들 언주점 재방문 후기   \n",
       "2               역삼역 고기집 대작 돼지갈비 연말모임 장소   \n",
       "3    역삼역 닭갈비 : 부담없이 먹기 좋은 저녁 메뉴 닭갈비...    \n",
       "4            고즈넉한 분위기의 역삼역 고기집 조선부뚜막 추천   \n",
       "..                                  ...   \n",
       "995      역삼역 피부관리 엘스킨라운지에서 데일리케어 받고 왔어요   \n",
       "996   [역삼역 맛집, 하몽하몽이베리코] 육즙 터지는 역삼역 고기집   \n",
       "997              역삼역 나주가에서 나주곰탕을 먹어치우다!   \n",
       "998           동궁빌딩 임대, 역삼역 사무실 (강남 역삼동)   \n",
       "999            역삼역 점심 철판쭈꾸미 뿔난황소곱창 런치메뉴   \n",
       "\n",
       "                                                 link  \\\n",
       "0      https://blog.naver.com/vnawmd9233/222958363823   \n",
       "1       https://blog.naver.com/sonbogong/222989812788   \n",
       "2        https://blog.naver.com/kizaki56/222945638980   \n",
       "3     https://blog.naver.com/hahaha_1226/222987731681   \n",
       "4       https://blog.naver.com/afineday2/222967406337   \n",
       "..                                                ...   \n",
       "995  https://blog.naver.com/singleflower/222982836800   \n",
       "996     https://blog.naver.com/qotndhrqo/222692478263   \n",
       "997       https://blog.naver.com/minar12/222623393083   \n",
       "998       https://blog.naver.com/smspkkb/222620049402   \n",
       "999    https://blog.naver.com/travelhola/222596001683   \n",
       "\n",
       "                                           description  \n",
       "0    얼마전 팀장님께서 회식 때 고기를 사주신다길래 인터넷에서 추천 받은 네모집 역삼점을...  \n",
       "1    방문 때마다 만족하는 차이들 언주점 합리적인 중식당 지난 주말에는 여자친구 친구들과...  \n",
       "2    역삼역 고기집 대작 돼지갈비 연말모임 장소 안녕하세요 몽몽이에요 이제 12월이 되어...  \n",
       "3    안녕하세요! 오늘 소개할 곳은 역삼역 닭갈비 맛집 장인 닭갈비 강남점 입니다 📍 서...  \n",
       "4    올해도 어느새 일주일밖에 남지 않았다. 한 해의 묵은 때를 벗겨냄과 동시에 내년에는...  \n",
       "..                                                 ...  \n",
       "995                                                NaN  \n",
       "996                                                NaN  \n",
       "997                                                NaN  \n",
       "998                                                NaN  \n",
       "999                                                NaN  \n",
       "\n",
       "[1000 rows x 3 columns]"
      ]
     },
     "execution_count": 4,
     "metadata": {},
     "output_type": "execute_result"
    }
   ],
   "source": [
    "df"
   ]
  },
  {
   "cell_type": "code",
   "execution_count": 5,
   "metadata": {},
   "outputs": [
    {
     "name": "stdout",
     "output_type": "stream",
     "text": [
      "8\n"
     ]
    },
    {
     "name": "stderr",
     "output_type": "stream",
     "text": [
      "c:\\AI_bootcamp_python\\CP2\\naver_blog_search.py:82: SettingWithCopyWarning: \n",
      "A value is trying to be set on a copy of a slice from a DataFrame\n",
      "\n",
      "See the caveats in the documentation: https://pandas.pydata.org/pandas-docs/stable/user_guide/indexing.html#returning-a-view-versus-a-copy\n",
      "  df['description'][nan_index] = pd.Series(contents)\n"
     ]
    },
    {
     "data": {
      "text/html": [
       "<div>\n",
       "<style scoped>\n",
       "    .dataframe tbody tr th:only-of-type {\n",
       "        vertical-align: middle;\n",
       "    }\n",
       "\n",
       "    .dataframe tbody tr th {\n",
       "        vertical-align: top;\n",
       "    }\n",
       "\n",
       "    .dataframe thead th {\n",
       "        text-align: right;\n",
       "    }\n",
       "</style>\n",
       "<table border=\"1\" class=\"dataframe\">\n",
       "  <thead>\n",
       "    <tr style=\"text-align: right;\">\n",
       "      <th></th>\n",
       "      <th>title</th>\n",
       "      <th>link</th>\n",
       "      <th>description</th>\n",
       "    </tr>\n",
       "  </thead>\n",
       "  <tbody>\n",
       "    <tr>\n",
       "      <th>0</th>\n",
       "      <td>프라이빗 룸있는 역삼역 회식장소</td>\n",
       "      <td>https://blog.naver.com/vnawmd9233/222958363823</td>\n",
       "      <td>얼마전 팀장님께서 회식 때 고기를 사주신다길래 인터넷에서 추천 받은 네모집 역삼점을...</td>\n",
       "    </tr>\n",
       "    <tr>\n",
       "      <th>1</th>\n",
       "      <td>역삼역 중식당 차이들 언주점 재방문 후기</td>\n",
       "      <td>https://blog.naver.com/sonbogong/222989812788</td>\n",
       "      <td>방문 때마다 만족하는 차이들 언주점 합리적인 중식당 지난 주말에는 여자친구 친구들과...</td>\n",
       "    </tr>\n",
       "    <tr>\n",
       "      <th>2</th>\n",
       "      <td>역삼역 고기집 대작 돼지갈비 연말모임 장소</td>\n",
       "      <td>https://blog.naver.com/kizaki56/222945638980</td>\n",
       "      <td>역삼역 고기집 대작 돼지갈비 연말모임 장소 안녕하세요 몽몽이에요 이제 12월이 되어...</td>\n",
       "    </tr>\n",
       "    <tr>\n",
       "      <th>3</th>\n",
       "      <td>역삼역 닭갈비 : 부담없이 먹기 좋은 저녁 메뉴 닭갈비...</td>\n",
       "      <td>https://blog.naver.com/hahaha_1226/222987731681</td>\n",
       "      <td>안녕하세요! 오늘 소개할 곳은 역삼역 닭갈비 맛집 장인 닭갈비 강남점 입니다 📍 서...</td>\n",
       "    </tr>\n",
       "    <tr>\n",
       "      <th>4</th>\n",
       "      <td>고즈넉한 분위기의 역삼역 고기집 조선부뚜막 추천</td>\n",
       "      <td>https://blog.naver.com/afineday2/222967406337</td>\n",
       "      <td>올해도 어느새 일주일밖에 남지 않았다. 한 해의 묵은 때를 벗겨냄과 동시에 내년에는...</td>\n",
       "    </tr>\n",
       "    <tr>\n",
       "      <th>...</th>\n",
       "      <td>...</td>\n",
       "      <td>...</td>\n",
       "      <td>...</td>\n",
       "    </tr>\n",
       "    <tr>\n",
       "      <th>995</th>\n",
       "      <td>역삼역 피부관리 엘스킨라운지에서 데일리케어 받고 왔어요</td>\n",
       "      <td>https://blog.naver.com/singleflower/222982836800</td>\n",
       "      <td>안녕하세요. 솔블레어입니다👋 눈오는 지난주 피부관리를 위해 엘스킨라운지에 다녀왔어요...</td>\n",
       "    </tr>\n",
       "    <tr>\n",
       "      <th>996</th>\n",
       "      <td>[역삼역 맛집, 하몽하몽이베리코] 육즙 터지는 역삼역 고기집</td>\n",
       "      <td>https://blog.naver.com/qotndhrqo/222692478263</td>\n",
       "      <td>역삼역 고기집, 강남 흑돼지 맛집 하몽하몽이베리코 / open mon ~ sat 1...</td>\n",
       "    </tr>\n",
       "    <tr>\n",
       "      <th>997</th>\n",
       "      <td>역삼역 나주가에서 나주곰탕을 먹어치우다!</td>\n",
       "      <td>https://blog.naver.com/minar12/222623393083</td>\n",
       "      <td>블로그 뷔페 빼고 먹어치우자! 667개의 글 뷔페 빼고 먹어치우자! 목록닫기 뷔페 ...</td>\n",
       "    </tr>\n",
       "    <tr>\n",
       "      <th>998</th>\n",
       "      <td>동궁빌딩 임대, 역삼역 사무실 (강남 역삼동)</td>\n",
       "      <td>https://blog.naver.com/smspkkb/222620049402</td>\n",
       "      <td>강남 역삼동 지하철 역삼역 도보 5분 거리 테헤란로 이면도로에 위치한 동궁빌딩 사무...</td>\n",
       "    </tr>\n",
       "    <tr>\n",
       "      <th>999</th>\n",
       "      <td>역삼역 점심 철판쭈꾸미 뿔난황소곱창 런치메뉴</td>\n",
       "      <td>https://blog.naver.com/travelhola/222596001683</td>\n",
       "      <td>역삼역 점심 철판쭈꾸미 뿔난황소곱창 런치메뉴 뿔난황소곱창에서 역삼역 점심을 먹고왔다...</td>\n",
       "    </tr>\n",
       "  </tbody>\n",
       "</table>\n",
       "<p>1000 rows × 3 columns</p>\n",
       "</div>"
      ],
      "text/plain": [
       "                                  title  \\\n",
       "0                     프라이빗 룸있는 역삼역 회식장소   \n",
       "1                역삼역 중식당 차이들 언주점 재방문 후기   \n",
       "2               역삼역 고기집 대작 돼지갈비 연말모임 장소   \n",
       "3    역삼역 닭갈비 : 부담없이 먹기 좋은 저녁 메뉴 닭갈비...    \n",
       "4            고즈넉한 분위기의 역삼역 고기집 조선부뚜막 추천   \n",
       "..                                  ...   \n",
       "995      역삼역 피부관리 엘스킨라운지에서 데일리케어 받고 왔어요   \n",
       "996   [역삼역 맛집, 하몽하몽이베리코] 육즙 터지는 역삼역 고기집   \n",
       "997              역삼역 나주가에서 나주곰탕을 먹어치우다!   \n",
       "998           동궁빌딩 임대, 역삼역 사무실 (강남 역삼동)   \n",
       "999            역삼역 점심 철판쭈꾸미 뿔난황소곱창 런치메뉴   \n",
       "\n",
       "                                                 link  \\\n",
       "0      https://blog.naver.com/vnawmd9233/222958363823   \n",
       "1       https://blog.naver.com/sonbogong/222989812788   \n",
       "2        https://blog.naver.com/kizaki56/222945638980   \n",
       "3     https://blog.naver.com/hahaha_1226/222987731681   \n",
       "4       https://blog.naver.com/afineday2/222967406337   \n",
       "..                                                ...   \n",
       "995  https://blog.naver.com/singleflower/222982836800   \n",
       "996     https://blog.naver.com/qotndhrqo/222692478263   \n",
       "997       https://blog.naver.com/minar12/222623393083   \n",
       "998       https://blog.naver.com/smspkkb/222620049402   \n",
       "999    https://blog.naver.com/travelhola/222596001683   \n",
       "\n",
       "                                           description  \n",
       "0    얼마전 팀장님께서 회식 때 고기를 사주신다길래 인터넷에서 추천 받은 네모집 역삼점을...  \n",
       "1    방문 때마다 만족하는 차이들 언주점 합리적인 중식당 지난 주말에는 여자친구 친구들과...  \n",
       "2    역삼역 고기집 대작 돼지갈비 연말모임 장소 안녕하세요 몽몽이에요 이제 12월이 되어...  \n",
       "3    안녕하세요! 오늘 소개할 곳은 역삼역 닭갈비 맛집 장인 닭갈비 강남점 입니다 📍 서...  \n",
       "4    올해도 어느새 일주일밖에 남지 않았다. 한 해의 묵은 때를 벗겨냄과 동시에 내년에는...  \n",
       "..                                                 ...  \n",
       "995  안녕하세요. 솔블레어입니다👋 눈오는 지난주 피부관리를 위해 엘스킨라운지에 다녀왔어요...  \n",
       "996  역삼역 고기집, 강남 흑돼지 맛집 하몽하몽이베리코 / open mon ~ sat 1...  \n",
       "997  블로그 뷔페 빼고 먹어치우자! 667개의 글 뷔페 빼고 먹어치우자! 목록닫기 뷔페 ...  \n",
       "998  강남 역삼동 지하철 역삼역 도보 5분 거리 테헤란로 이면도로에 위치한 동궁빌딩 사무...  \n",
       "999  역삼역 점심 철판쭈꾸미 뿔난황소곱창 런치메뉴 뿔난황소곱창에서 역삼역 점심을 먹고왔다...  \n",
       "\n",
       "[1000 rows x 3 columns]"
      ]
     },
     "execution_count": 5,
     "metadata": {},
     "output_type": "execute_result"
    }
   ],
   "source": [
    "df_blog = get_description(df[:1000])\n",
    "df_blog"
   ]
  },
  {
   "cell_type": "code",
   "execution_count": 6,
   "metadata": {},
   "outputs": [
    {
     "data": {
      "text/html": [
       "<div>\n",
       "<style scoped>\n",
       "    .dataframe tbody tr th:only-of-type {\n",
       "        vertical-align: middle;\n",
       "    }\n",
       "\n",
       "    .dataframe tbody tr th {\n",
       "        vertical-align: top;\n",
       "    }\n",
       "\n",
       "    .dataframe thead th {\n",
       "        text-align: right;\n",
       "    }\n",
       "</style>\n",
       "<table border=\"1\" class=\"dataframe\">\n",
       "  <thead>\n",
       "    <tr style=\"text-align: right;\">\n",
       "      <th></th>\n",
       "      <th>title</th>\n",
       "      <th>link</th>\n",
       "      <th>description</th>\n",
       "    </tr>\n",
       "  </thead>\n",
       "  <tbody>\n",
       "  </tbody>\n",
       "</table>\n",
       "</div>"
      ],
      "text/plain": [
       "Empty DataFrame\n",
       "Columns: [title, link, description]\n",
       "Index: []"
      ]
     },
     "execution_count": 6,
     "metadata": {},
     "output_type": "execute_result"
    }
   ],
   "source": [
    "df[df['description'].isnull()]"
   ]
  },
  {
   "cell_type": "code",
   "execution_count": 7,
   "metadata": {},
   "outputs": [],
   "source": [
    "df_blog.to_csv('test.csv')"
   ]
  }
 ],
 "metadata": {
  "kernelspec": {
   "display_name": "cp2",
   "language": "python",
   "name": "python3"
  },
  "language_info": {
   "codemirror_mode": {
    "name": "ipython",
    "version": 3
   },
   "file_extension": ".py",
   "mimetype": "text/x-python",
   "name": "python",
   "nbconvert_exporter": "python",
   "pygments_lexer": "ipython3",
   "version": "3.8.16"
  },
  "orig_nbformat": 4,
  "vscode": {
   "interpreter": {
    "hash": "699f5f1df47bd9cd5a6cb370ac19010f3581a6948a486db3caa8ce455d93d146"
   }
  }
 },
 "nbformat": 4,
 "nbformat_minor": 2
}
