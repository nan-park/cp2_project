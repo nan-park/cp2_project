{
 "cells": [
  {
   "cell_type": "code",
   "execution_count": 1,
   "metadata": {},
   "outputs": [],
   "source": [
    "import pandas as pd\n",
    "import numpy as np\n",
    "from naver_blog_search import get_title_link, get_description"
   ]
  },
  {
   "cell_type": "code",
   "execution_count": 2,
   "metadata": {},
   "outputs": [
    {
     "name": "stdout",
     "output_type": "stream",
     "text": [
      "get title, link 0\n",
      "get title, link 1\n",
      "get title, link 2\n",
      "get title, link 3\n",
      "get title, link 4\n",
      "get title, link 5\n",
      "get title, link 6\n",
      "get title, link 7\n",
      "get title, link 8\n",
      "get title, link 9\n",
      "완료\n"
     ]
    }
   ],
   "source": [
    "CLIENT_ID = \"MbuEYulgGLLeJwRW2ugN\"\n",
    "CLIENT_SECRET = \"_igAnMpGRM\"\n",
    "df = pd.DataFrame()\n",
    "\n",
    "for i in range(0, 10):\n",
    "    df = get_title_link(df, '신림역', CLIENT_ID, CLIENT_SECRET, start=i*100+1)\n",
    "    print(f'get title, link {i}')\n",
    "df = get_title_link(df, '신림역', CLIENT_ID, CLIENT_SECRET, start=1000)\n",
    "df = df.reset_index(drop=True)\n",
    "drop_index = df[df.duplicated()].index\n",
    "df = df.drop(drop_index, axis=0)\n",
    "df = df.reset_index(drop=True)\n",
    "print(\"완료\")\n"
   ]
  },
  {
   "cell_type": "code",
   "execution_count": 3,
   "metadata": {},
   "outputs": [
    {
     "data": {
      "text/html": [
       "<div>\n",
       "<style scoped>\n",
       "    .dataframe tbody tr th:only-of-type {\n",
       "        vertical-align: middle;\n",
       "    }\n",
       "\n",
       "    .dataframe tbody tr th {\n",
       "        vertical-align: top;\n",
       "    }\n",
       "\n",
       "    .dataframe thead th {\n",
       "        text-align: right;\n",
       "    }\n",
       "</style>\n",
       "<table border=\"1\" class=\"dataframe\">\n",
       "  <thead>\n",
       "    <tr style=\"text-align: right;\">\n",
       "      <th></th>\n",
       "      <th>title</th>\n",
       "      <th>link</th>\n",
       "      <th>description</th>\n",
       "    </tr>\n",
       "  </thead>\n",
       "  <tbody>\n",
       "    <tr>\n",
       "      <th>0</th>\n",
       "      <td>합리적이였던 신촌역 고기집</td>\n",
       "      <td>https://blog.naver.com/songinpark93/222936335542</td>\n",
       "      <td>NaN</td>\n",
       "    </tr>\n",
       "    <tr>\n",
       "      <th>1</th>\n",
       "      <td>이화여대 신촌역 샐러드 맛집 굿바이슈가베어 솔직후기</td>\n",
       "      <td>https://blog.naver.com/modern_dyoni/222933372090</td>\n",
       "      <td>NaN</td>\n",
       "    </tr>\n",
       "    <tr>\n",
       "      <th>2</th>\n",
       "      <td>앙버터 존맛탱 신촌역 디저트 카페 고르드</td>\n",
       "      <td>https://blog.naver.com/dhkdqnflxldz/222897227428</td>\n",
       "      <td>NaN</td>\n",
       "    </tr>\n",
       "    <tr>\n",
       "      <th>3</th>\n",
       "      <td>[먹거리 리뷰] 서울 신촌역 그랜드플라자 피자몰 신촌점...</td>\n",
       "      <td>https://blog.naver.com/sakamuts/222988678797</td>\n",
       "      <td>NaN</td>\n",
       "    </tr>\n",
       "    <tr>\n",
       "      <th>4</th>\n",
       "      <td>경의선 신촌역 시간표 및 공영주차장 / 경의중앙선 신촌기차역...</td>\n",
       "      <td>https://blog.naver.com/dxsuckit69/222970302551</td>\n",
       "      <td>NaN</td>\n",
       "    </tr>\n",
       "    <tr>\n",
       "      <th>...</th>\n",
       "      <td>...</td>\n",
       "      <td>...</td>\n",
       "      <td>...</td>\n",
       "    </tr>\n",
       "    <tr>\n",
       "      <th>1095</th>\n",
       "      <td>추억의 신촌역(경의선)을 찾아서</td>\n",
       "      <td>https://blog.naver.com/yehrim95/70078453180</td>\n",
       "      <td>NaN</td>\n",
       "    </tr>\n",
       "    <tr>\n",
       "      <th>1096</th>\n",
       "      <td>2호선 신촌역 주변 단독다가구,상가주택 매물 소개 &amp;amp; 분석 #1.</td>\n",
       "      <td>https://blog.naver.com/srgoldp/222962802433</td>\n",
       "      <td>NaN</td>\n",
       "    </tr>\n",
       "    <tr>\n",
       "      <th>1097</th>\n",
       "      <td>신촌역 라멘맛집 카라멘야, 돈코츠라멘 추천</td>\n",
       "      <td>https://blog.naver.com/tjsals9210/222873554472</td>\n",
       "      <td>NaN</td>\n",
       "    </tr>\n",
       "    <tr>\n",
       "      <th>1098</th>\n",
       "      <td>신촌역 연대가는길 신촌세브란스 암병원 가는길 │힐링앤뷰티</td>\n",
       "      <td>https://blog.naver.com/pschealing/220003704660</td>\n",
       "      <td>NaN</td>\n",
       "    </tr>\n",
       "    <tr>\n",
       "      <th>1099</th>\n",
       "      <td>신촌역 카페 :: 고르드, 앙버터가 맛있는 빵 냄새 가득한 카페</td>\n",
       "      <td>https://blog.naver.com/aran_93/221657210055</td>\n",
       "      <td>NaN</td>\n",
       "    </tr>\n",
       "  </tbody>\n",
       "</table>\n",
       "<p>1099 rows × 3 columns</p>\n",
       "</div>"
      ],
      "text/plain": [
       "                                         title  \\\n",
       "0                               합리적이였던 신촌역 고기집   \n",
       "1                 이화여대 신촌역 샐러드 맛집 굿바이슈가베어 솔직후기   \n",
       "2                       앙버터 존맛탱 신촌역 디저트 카페 고르드   \n",
       "3           [먹거리 리뷰] 서울 신촌역 그랜드플라자 피자몰 신촌점...    \n",
       "4        경의선 신촌역 시간표 및 공영주차장 / 경의중앙선 신촌기차역...    \n",
       "...                                        ...   \n",
       "1095                         추억의 신촌역(경의선)을 찾아서   \n",
       "1096  2호선 신촌역 주변 단독다가구,상가주택 매물 소개 &amp; 분석 #1.   \n",
       "1097                   신촌역 라멘맛집 카라멘야, 돈코츠라멘 추천   \n",
       "1098           신촌역 연대가는길 신촌세브란스 암병원 가는길 │힐링앤뷰티   \n",
       "1099       신촌역 카페 :: 고르드, 앙버터가 맛있는 빵 냄새 가득한 카페   \n",
       "\n",
       "                                                  link  description  \n",
       "0     https://blog.naver.com/songinpark93/222936335542          NaN  \n",
       "1     https://blog.naver.com/modern_dyoni/222933372090          NaN  \n",
       "2     https://blog.naver.com/dhkdqnflxldz/222897227428          NaN  \n",
       "3         https://blog.naver.com/sakamuts/222988678797          NaN  \n",
       "4       https://blog.naver.com/dxsuckit69/222970302551          NaN  \n",
       "...                                                ...          ...  \n",
       "1095       https://blog.naver.com/yehrim95/70078453180          NaN  \n",
       "1096       https://blog.naver.com/srgoldp/222962802433          NaN  \n",
       "1097    https://blog.naver.com/tjsals9210/222873554472          NaN  \n",
       "1098    https://blog.naver.com/pschealing/220003704660          NaN  \n",
       "1099       https://blog.naver.com/aran_93/221657210055          NaN  \n",
       "\n",
       "[1099 rows x 3 columns]"
      ]
     },
     "execution_count": 3,
     "metadata": {},
     "output_type": "execute_result"
    }
   ],
   "source": [
    "df"
   ]
  },
  {
   "cell_type": "code",
   "execution_count": 4,
   "metadata": {},
   "outputs": [
    {
     "data": {
      "text/plain": [
       "(1090, 3)"
      ]
     },
     "execution_count": 4,
     "metadata": {},
     "output_type": "execute_result"
    }
   ],
   "source": [
    "# naver 블로그만 가져오기\n",
    "import numpy as np\n",
    "df = df[df['link'].str.find('naver')!=-1]\n",
    "df.shape"
   ]
  },
  {
   "cell_type": "code",
   "execution_count": 5,
   "metadata": {},
   "outputs": [
    {
     "data": {
      "text/plain": [
       "0"
      ]
     },
     "execution_count": 5,
     "metadata": {},
     "output_type": "execute_result"
    }
   ],
   "source": [
    "df.duplicated().sum()"
   ]
  },
  {
   "cell_type": "code",
   "execution_count": 6,
   "metadata": {},
   "outputs": [
    {
     "name": "stdout",
     "output_type": "stream",
     "text": [
      "to_csv\n"
     ]
    }
   ],
   "source": [
    "df.to_csv('title_link_shinchon.csv')\n",
    "print('to_csv')"
   ]
  },
  {
   "cell_type": "code",
   "execution_count": 2,
   "metadata": {},
   "outputs": [
    {
     "data": {
      "text/plain": [
       "Int64Index([   0,    1,    2,    3,    4,    5,    6,    7,    8,    9,\n",
       "            ...\n",
       "            1080, 1081, 1082, 1083, 1084, 1085, 1086, 1087, 1088, 1089],\n",
       "           dtype='int64', length=1090)"
      ]
     },
     "execution_count": 2,
     "metadata": {},
     "output_type": "execute_result"
    }
   ],
   "source": [
    "df = pd.read_csv('title_link_shinchon.csv')\n",
    "df.drop('Unnamed: 0', axis=1, inplace=True)\n",
    "nan_index = df[df['description'].isnull()].index\n",
    "nan_index"
   ]
  },
  {
   "cell_type": "code",
   "execution_count": 3,
   "metadata": {},
   "outputs": [
    {
     "data": {
      "text/plain": [
       "0       https://blog.naver.com/songinpark93/222936335542\n",
       "1       https://blog.naver.com/modern_dyoni/222933372090\n",
       "2       https://blog.naver.com/dhkdqnflxldz/222897227428\n",
       "3           https://blog.naver.com/sakamuts/222988678797\n",
       "4         https://blog.naver.com/dxsuckit69/222970302551\n",
       "                              ...                       \n",
       "1085         https://blog.naver.com/yehrim95/70078453180\n",
       "1086         https://blog.naver.com/srgoldp/222962802433\n",
       "1087      https://blog.naver.com/tjsals9210/222873554472\n",
       "1088      https://blog.naver.com/pschealing/220003704660\n",
       "1089         https://blog.naver.com/aran_93/221657210055\n",
       "Name: link, Length: 1090, dtype: object"
      ]
     },
     "execution_count": 3,
     "metadata": {},
     "output_type": "execute_result"
    }
   ],
   "source": [
    "df['link'][nan_index]"
   ]
  },
  {
   "cell_type": "code",
   "execution_count": 4,
   "metadata": {},
   "outputs": [
    {
     "data": {
      "text/html": [
       "<div>\n",
       "<style scoped>\n",
       "    .dataframe tbody tr th:only-of-type {\n",
       "        vertical-align: middle;\n",
       "    }\n",
       "\n",
       "    .dataframe tbody tr th {\n",
       "        vertical-align: top;\n",
       "    }\n",
       "\n",
       "    .dataframe thead th {\n",
       "        text-align: right;\n",
       "    }\n",
       "</style>\n",
       "<table border=\"1\" class=\"dataframe\">\n",
       "  <thead>\n",
       "    <tr style=\"text-align: right;\">\n",
       "      <th></th>\n",
       "      <th>title</th>\n",
       "      <th>link</th>\n",
       "      <th>description</th>\n",
       "    </tr>\n",
       "  </thead>\n",
       "  <tbody>\n",
       "    <tr>\n",
       "      <th>0</th>\n",
       "      <td>합리적이였던 신촌역 고기집</td>\n",
       "      <td>https://blog.naver.com/songinpark93/222936335542</td>\n",
       "      <td>NaN</td>\n",
       "    </tr>\n",
       "    <tr>\n",
       "      <th>1</th>\n",
       "      <td>이화여대 신촌역 샐러드 맛집 굿바이슈가베어 솔직후기</td>\n",
       "      <td>https://blog.naver.com/modern_dyoni/222933372090</td>\n",
       "      <td>NaN</td>\n",
       "    </tr>\n",
       "    <tr>\n",
       "      <th>2</th>\n",
       "      <td>앙버터 존맛탱 신촌역 디저트 카페 고르드</td>\n",
       "      <td>https://blog.naver.com/dhkdqnflxldz/222897227428</td>\n",
       "      <td>NaN</td>\n",
       "    </tr>\n",
       "    <tr>\n",
       "      <th>3</th>\n",
       "      <td>[먹거리 리뷰] 서울 신촌역 그랜드플라자 피자몰 신촌점...</td>\n",
       "      <td>https://blog.naver.com/sakamuts/222988678797</td>\n",
       "      <td>NaN</td>\n",
       "    </tr>\n",
       "    <tr>\n",
       "      <th>4</th>\n",
       "      <td>경의선 신촌역 시간표 및 공영주차장 / 경의중앙선 신촌기차역...</td>\n",
       "      <td>https://blog.naver.com/dxsuckit69/222970302551</td>\n",
       "      <td>NaN</td>\n",
       "    </tr>\n",
       "    <tr>\n",
       "      <th>...</th>\n",
       "      <td>...</td>\n",
       "      <td>...</td>\n",
       "      <td>...</td>\n",
       "    </tr>\n",
       "    <tr>\n",
       "      <th>1085</th>\n",
       "      <td>추억의 신촌역(경의선)을 찾아서</td>\n",
       "      <td>https://blog.naver.com/yehrim95/70078453180</td>\n",
       "      <td>NaN</td>\n",
       "    </tr>\n",
       "    <tr>\n",
       "      <th>1086</th>\n",
       "      <td>2호선 신촌역 주변 단독다가구,상가주택 매물 소개 &amp;amp; 분석 #1.</td>\n",
       "      <td>https://blog.naver.com/srgoldp/222962802433</td>\n",
       "      <td>NaN</td>\n",
       "    </tr>\n",
       "    <tr>\n",
       "      <th>1087</th>\n",
       "      <td>신촌역 라멘맛집 카라멘야, 돈코츠라멘 추천</td>\n",
       "      <td>https://blog.naver.com/tjsals9210/222873554472</td>\n",
       "      <td>NaN</td>\n",
       "    </tr>\n",
       "    <tr>\n",
       "      <th>1088</th>\n",
       "      <td>신촌역 연대가는길 신촌세브란스 암병원 가는길 │힐링앤뷰티</td>\n",
       "      <td>https://blog.naver.com/pschealing/220003704660</td>\n",
       "      <td>NaN</td>\n",
       "    </tr>\n",
       "    <tr>\n",
       "      <th>1089</th>\n",
       "      <td>신촌역 카페 :: 고르드, 앙버터가 맛있는 빵 냄새 가득한 카페</td>\n",
       "      <td>https://blog.naver.com/aran_93/221657210055</td>\n",
       "      <td>NaN</td>\n",
       "    </tr>\n",
       "  </tbody>\n",
       "</table>\n",
       "<p>1090 rows × 3 columns</p>\n",
       "</div>"
      ],
      "text/plain": [
       "                                         title  \\\n",
       "0                               합리적이였던 신촌역 고기집   \n",
       "1                 이화여대 신촌역 샐러드 맛집 굿바이슈가베어 솔직후기   \n",
       "2                       앙버터 존맛탱 신촌역 디저트 카페 고르드   \n",
       "3           [먹거리 리뷰] 서울 신촌역 그랜드플라자 피자몰 신촌점...    \n",
       "4        경의선 신촌역 시간표 및 공영주차장 / 경의중앙선 신촌기차역...    \n",
       "...                                        ...   \n",
       "1085                         추억의 신촌역(경의선)을 찾아서   \n",
       "1086  2호선 신촌역 주변 단독다가구,상가주택 매물 소개 &amp; 분석 #1.   \n",
       "1087                   신촌역 라멘맛집 카라멘야, 돈코츠라멘 추천   \n",
       "1088           신촌역 연대가는길 신촌세브란스 암병원 가는길 │힐링앤뷰티   \n",
       "1089       신촌역 카페 :: 고르드, 앙버터가 맛있는 빵 냄새 가득한 카페   \n",
       "\n",
       "                                                  link  description  \n",
       "0     https://blog.naver.com/songinpark93/222936335542          NaN  \n",
       "1     https://blog.naver.com/modern_dyoni/222933372090          NaN  \n",
       "2     https://blog.naver.com/dhkdqnflxldz/222897227428          NaN  \n",
       "3         https://blog.naver.com/sakamuts/222988678797          NaN  \n",
       "4       https://blog.naver.com/dxsuckit69/222970302551          NaN  \n",
       "...                                                ...          ...  \n",
       "1085       https://blog.naver.com/yehrim95/70078453180          NaN  \n",
       "1086       https://blog.naver.com/srgoldp/222962802433          NaN  \n",
       "1087    https://blog.naver.com/tjsals9210/222873554472          NaN  \n",
       "1088    https://blog.naver.com/pschealing/220003704660          NaN  \n",
       "1089       https://blog.naver.com/aran_93/221657210055          NaN  \n",
       "\n",
       "[1090 rows x 3 columns]"
      ]
     },
     "execution_count": 4,
     "metadata": {},
     "output_type": "execute_result"
    }
   ],
   "source": [
    "df"
   ]
  },
  {
   "cell_type": "code",
   "execution_count": 5,
   "metadata": {},
   "outputs": [
    {
     "ename": "NoSuchFrameException",
     "evalue": "Message: mainFrame\n",
     "output_type": "error",
     "traceback": [
      "\u001b[1;31m---------------------------------------------------------------------------\u001b[0m",
      "\u001b[1;31mNoSuchElementException\u001b[0m                    Traceback (most recent call last)",
      "File \u001b[1;32mc:\\Users\\USERPC\\anaconda3\\envs\\cp2\\lib\\site-packages\\selenium\\webdriver\\remote\\switch_to.py:88\u001b[0m, in \u001b[0;36mSwitchTo.frame\u001b[1;34m(self, frame_reference)\u001b[0m\n\u001b[0;32m     87\u001b[0m \u001b[39mtry\u001b[39;00m:\n\u001b[1;32m---> 88\u001b[0m     frame_reference \u001b[39m=\u001b[39m \u001b[39mself\u001b[39;49m\u001b[39m.\u001b[39;49m_driver\u001b[39m.\u001b[39;49mfind_element(By\u001b[39m.\u001b[39;49mID, frame_reference)\n\u001b[0;32m     89\u001b[0m \u001b[39mexcept\u001b[39;00m NoSuchElementException:\n",
      "File \u001b[1;32mc:\\Users\\USERPC\\anaconda3\\envs\\cp2\\lib\\site-packages\\selenium\\webdriver\\remote\\webdriver.py:861\u001b[0m, in \u001b[0;36mWebDriver.find_element\u001b[1;34m(self, by, value)\u001b[0m\n\u001b[0;32m    859\u001b[0m     value \u001b[39m=\u001b[39m \u001b[39m'\u001b[39m\u001b[39m[name=\u001b[39m\u001b[39m\"\u001b[39m\u001b[39m%s\u001b[39;00m\u001b[39m\"\u001b[39m\u001b[39m]\u001b[39m\u001b[39m'\u001b[39m \u001b[39m%\u001b[39m value\n\u001b[1;32m--> 861\u001b[0m \u001b[39mreturn\u001b[39;00m \u001b[39mself\u001b[39;49m\u001b[39m.\u001b[39;49mexecute(Command\u001b[39m.\u001b[39;49mFIND_ELEMENT, {\u001b[39m\"\u001b[39;49m\u001b[39musing\u001b[39;49m\u001b[39m\"\u001b[39;49m: by, \u001b[39m\"\u001b[39;49m\u001b[39mvalue\u001b[39;49m\u001b[39m\"\u001b[39;49m: value})[\u001b[39m\"\u001b[39m\u001b[39mvalue\u001b[39m\u001b[39m\"\u001b[39m]\n",
      "File \u001b[1;32mc:\\Users\\USERPC\\anaconda3\\envs\\cp2\\lib\\site-packages\\selenium\\webdriver\\remote\\webdriver.py:444\u001b[0m, in \u001b[0;36mWebDriver.execute\u001b[1;34m(self, driver_command, params)\u001b[0m\n\u001b[0;32m    443\u001b[0m \u001b[39mif\u001b[39;00m response:\n\u001b[1;32m--> 444\u001b[0m     \u001b[39mself\u001b[39;49m\u001b[39m.\u001b[39;49merror_handler\u001b[39m.\u001b[39;49mcheck_response(response)\n\u001b[0;32m    445\u001b[0m     response[\u001b[39m\"\u001b[39m\u001b[39mvalue\u001b[39m\u001b[39m\"\u001b[39m] \u001b[39m=\u001b[39m \u001b[39mself\u001b[39m\u001b[39m.\u001b[39m_unwrap_value(response\u001b[39m.\u001b[39mget(\u001b[39m\"\u001b[39m\u001b[39mvalue\u001b[39m\u001b[39m\"\u001b[39m, \u001b[39mNone\u001b[39;00m))\n",
      "File \u001b[1;32mc:\\Users\\USERPC\\anaconda3\\envs\\cp2\\lib\\site-packages\\selenium\\webdriver\\remote\\errorhandler.py:249\u001b[0m, in \u001b[0;36mErrorHandler.check_response\u001b[1;34m(self, response)\u001b[0m\n\u001b[0;32m    248\u001b[0m     \u001b[39mraise\u001b[39;00m exception_class(message, screen, stacktrace, alert_text)  \u001b[39m# type: ignore[call-arg]  # mypy is not smart enough here\u001b[39;00m\n\u001b[1;32m--> 249\u001b[0m \u001b[39mraise\u001b[39;00m exception_class(message, screen, stacktrace)\n",
      "\u001b[1;31mNoSuchElementException\u001b[0m: Message: no such element: Unable to locate element: {\"method\":\"css selector\",\"selector\":\"[id=\"mainFrame\"]\"}\n  (Session info: chrome=109.0.5414.75)\nStacktrace:\nBacktrace:\n\t(No symbol) [0x00C26643]\n\t(No symbol) [0x00BBBE21]\n\t(No symbol) [0x00ABDA9D]\n\t(No symbol) [0x00AF1342]\n\t(No symbol) [0x00AF147B]\n\t(No symbol) [0x00B28DC2]\n\t(No symbol) [0x00B0FDC4]\n\t(No symbol) [0x00B26B09]\n\t(No symbol) [0x00B0FB76]\n\t(No symbol) [0x00AE49C1]\n\t(No symbol) [0x00AE5E5D]\n\tGetHandleVerifier [0x00E9A142+2497106]\n\tGetHandleVerifier [0x00EC85D3+2686691]\n\tGetHandleVerifier [0x00ECBB9C+2700460]\n\tGetHandleVerifier [0x00CD3B10+635936]\n\t(No symbol) [0x00BC4A1F]\n\t(No symbol) [0x00BCA418]\n\t(No symbol) [0x00BCA505]\n\t(No symbol) [0x00BD508B]\n\tBaseThreadInitThunk [0x754E00F9+25]\n\tRtlGetAppContainerNamedObjectPath [0x77177BBE+286]\n\tRtlGetAppContainerNamedObjectPath [0x77177B8E+238]\n",
      "\nDuring handling of the above exception, another exception occurred:\n",
      "\u001b[1;31mNoSuchElementException\u001b[0m                    Traceback (most recent call last)",
      "File \u001b[1;32mc:\\Users\\USERPC\\anaconda3\\envs\\cp2\\lib\\site-packages\\selenium\\webdriver\\remote\\switch_to.py:91\u001b[0m, in \u001b[0;36mSwitchTo.frame\u001b[1;34m(self, frame_reference)\u001b[0m\n\u001b[0;32m     90\u001b[0m \u001b[39mtry\u001b[39;00m:\n\u001b[1;32m---> 91\u001b[0m     frame_reference \u001b[39m=\u001b[39m \u001b[39mself\u001b[39;49m\u001b[39m.\u001b[39;49m_driver\u001b[39m.\u001b[39;49mfind_element(By\u001b[39m.\u001b[39;49mNAME, frame_reference)\n\u001b[0;32m     92\u001b[0m \u001b[39mexcept\u001b[39;00m NoSuchElementException:\n",
      "File \u001b[1;32mc:\\Users\\USERPC\\anaconda3\\envs\\cp2\\lib\\site-packages\\selenium\\webdriver\\remote\\webdriver.py:861\u001b[0m, in \u001b[0;36mWebDriver.find_element\u001b[1;34m(self, by, value)\u001b[0m\n\u001b[0;32m    859\u001b[0m     value \u001b[39m=\u001b[39m \u001b[39m'\u001b[39m\u001b[39m[name=\u001b[39m\u001b[39m\"\u001b[39m\u001b[39m%s\u001b[39;00m\u001b[39m\"\u001b[39m\u001b[39m]\u001b[39m\u001b[39m'\u001b[39m \u001b[39m%\u001b[39m value\n\u001b[1;32m--> 861\u001b[0m \u001b[39mreturn\u001b[39;00m \u001b[39mself\u001b[39;49m\u001b[39m.\u001b[39;49mexecute(Command\u001b[39m.\u001b[39;49mFIND_ELEMENT, {\u001b[39m\"\u001b[39;49m\u001b[39musing\u001b[39;49m\u001b[39m\"\u001b[39;49m: by, \u001b[39m\"\u001b[39;49m\u001b[39mvalue\u001b[39;49m\u001b[39m\"\u001b[39;49m: value})[\u001b[39m\"\u001b[39m\u001b[39mvalue\u001b[39m\u001b[39m\"\u001b[39m]\n",
      "File \u001b[1;32mc:\\Users\\USERPC\\anaconda3\\envs\\cp2\\lib\\site-packages\\selenium\\webdriver\\remote\\webdriver.py:444\u001b[0m, in \u001b[0;36mWebDriver.execute\u001b[1;34m(self, driver_command, params)\u001b[0m\n\u001b[0;32m    443\u001b[0m \u001b[39mif\u001b[39;00m response:\n\u001b[1;32m--> 444\u001b[0m     \u001b[39mself\u001b[39;49m\u001b[39m.\u001b[39;49merror_handler\u001b[39m.\u001b[39;49mcheck_response(response)\n\u001b[0;32m    445\u001b[0m     response[\u001b[39m\"\u001b[39m\u001b[39mvalue\u001b[39m\u001b[39m\"\u001b[39m] \u001b[39m=\u001b[39m \u001b[39mself\u001b[39m\u001b[39m.\u001b[39m_unwrap_value(response\u001b[39m.\u001b[39mget(\u001b[39m\"\u001b[39m\u001b[39mvalue\u001b[39m\u001b[39m\"\u001b[39m, \u001b[39mNone\u001b[39;00m))\n",
      "File \u001b[1;32mc:\\Users\\USERPC\\anaconda3\\envs\\cp2\\lib\\site-packages\\selenium\\webdriver\\remote\\errorhandler.py:249\u001b[0m, in \u001b[0;36mErrorHandler.check_response\u001b[1;34m(self, response)\u001b[0m\n\u001b[0;32m    248\u001b[0m     \u001b[39mraise\u001b[39;00m exception_class(message, screen, stacktrace, alert_text)  \u001b[39m# type: ignore[call-arg]  # mypy is not smart enough here\u001b[39;00m\n\u001b[1;32m--> 249\u001b[0m \u001b[39mraise\u001b[39;00m exception_class(message, screen, stacktrace)\n",
      "\u001b[1;31mNoSuchElementException\u001b[0m: Message: no such element: Unable to locate element: {\"method\":\"css selector\",\"selector\":\"[name=\"mainFrame\"]\"}\n  (Session info: chrome=109.0.5414.75)\nStacktrace:\nBacktrace:\n\t(No symbol) [0x00C26643]\n\t(No symbol) [0x00BBBE21]\n\t(No symbol) [0x00ABDA9D]\n\t(No symbol) [0x00AF1342]\n\t(No symbol) [0x00AF147B]\n\t(No symbol) [0x00B28DC2]\n\t(No symbol) [0x00B0FDC4]\n\t(No symbol) [0x00B26B09]\n\t(No symbol) [0x00B0FB76]\n\t(No symbol) [0x00AE49C1]\n\t(No symbol) [0x00AE5E5D]\n\tGetHandleVerifier [0x00E9A142+2497106]\n\tGetHandleVerifier [0x00EC85D3+2686691]\n\tGetHandleVerifier [0x00ECBB9C+2700460]\n\tGetHandleVerifier [0x00CD3B10+635936]\n\t(No symbol) [0x00BC4A1F]\n\t(No symbol) [0x00BCA418]\n\t(No symbol) [0x00BCA505]\n\t(No symbol) [0x00BD508B]\n\tBaseThreadInitThunk [0x754E00F9+25]\n\tRtlGetAppContainerNamedObjectPath [0x77177BBE+286]\n\tRtlGetAppContainerNamedObjectPath [0x77177B8E+238]\n",
      "\nDuring handling of the above exception, another exception occurred:\n",
      "\u001b[1;31mNoSuchFrameException\u001b[0m                      Traceback (most recent call last)",
      "Cell \u001b[1;32mIn[5], line 1\u001b[0m\n\u001b[1;32m----> 1\u001b[0m df_blog \u001b[39m=\u001b[39m get_description(df[:\u001b[39m1000\u001b[39;49m])\n\u001b[0;32m      2\u001b[0m df_blog\n",
      "File \u001b[1;32mc:\\AI_bootcamp_python\\CP2\\cp2_project\\blog_crawling\\naver_blog_search.py:73\u001b[0m, in \u001b[0;36mget_description\u001b[1;34m(df)\u001b[0m\n\u001b[0;32m     71\u001b[0m driver\u001b[39m.\u001b[39mget(url)\n\u001b[0;32m     72\u001b[0m time\u001b[39m.\u001b[39msleep(\u001b[39m1\u001b[39m)\n\u001b[1;32m---> 73\u001b[0m driver\u001b[39m.\u001b[39;49mswitch_to\u001b[39m.\u001b[39;49mframe(\u001b[39m'\u001b[39;49m\u001b[39mmainFrame\u001b[39;49m\u001b[39m'\u001b[39;49m)\n\u001b[0;32m     74\u001b[0m \u001b[39mtry\u001b[39;00m:\n\u001b[0;32m     75\u001b[0m     a \u001b[39m=\u001b[39m driver\u001b[39m.\u001b[39mfind_element(By\u001b[39m.\u001b[39mCSS_SELECTOR, \u001b[39m'\u001b[39m\u001b[39mdiv.se-main-container\u001b[39m\u001b[39m'\u001b[39m)\u001b[39m.\u001b[39mtext\n",
      "File \u001b[1;32mc:\\Users\\USERPC\\anaconda3\\envs\\cp2\\lib\\site-packages\\selenium\\webdriver\\remote\\switch_to.py:93\u001b[0m, in \u001b[0;36mSwitchTo.frame\u001b[1;34m(self, frame_reference)\u001b[0m\n\u001b[0;32m     91\u001b[0m             frame_reference \u001b[39m=\u001b[39m \u001b[39mself\u001b[39m\u001b[39m.\u001b[39m_driver\u001b[39m.\u001b[39mfind_element(By\u001b[39m.\u001b[39mNAME, frame_reference)\n\u001b[0;32m     92\u001b[0m         \u001b[39mexcept\u001b[39;00m NoSuchElementException:\n\u001b[1;32m---> 93\u001b[0m             \u001b[39mraise\u001b[39;00m NoSuchFrameException(frame_reference)\n\u001b[0;32m     95\u001b[0m \u001b[39mself\u001b[39m\u001b[39m.\u001b[39m_driver\u001b[39m.\u001b[39mexecute(Command\u001b[39m.\u001b[39mSWITCH_TO_FRAME, {\u001b[39m\"\u001b[39m\u001b[39mid\u001b[39m\u001b[39m\"\u001b[39m: frame_reference})\n",
      "\u001b[1;31mNoSuchFrameException\u001b[0m: Message: mainFrame\n"
     ]
    }
   ],
   "source": [
    "df_blog = get_description(df[:1000])\n",
    "df_blog # 비공개글일 때 오류 뜸"
   ]
  },
  {
   "cell_type": "code",
   "execution_count": 6,
   "metadata": {},
   "outputs": [
    {
     "data": {
      "text/html": [
       "<div>\n",
       "<style scoped>\n",
       "    .dataframe tbody tr th:only-of-type {\n",
       "        vertical-align: middle;\n",
       "    }\n",
       "\n",
       "    .dataframe tbody tr th {\n",
       "        vertical-align: top;\n",
       "    }\n",
       "\n",
       "    .dataframe thead th {\n",
       "        text-align: right;\n",
       "    }\n",
       "</style>\n",
       "<table border=\"1\" class=\"dataframe\">\n",
       "  <thead>\n",
       "    <tr style=\"text-align: right;\">\n",
       "      <th></th>\n",
       "      <th>title</th>\n",
       "      <th>link</th>\n",
       "      <th>description</th>\n",
       "    </tr>\n",
       "  </thead>\n",
       "  <tbody>\n",
       "    <tr>\n",
       "      <th>0</th>\n",
       "      <td>합리적이였던 신촌역 고기집</td>\n",
       "      <td>https://blog.naver.com/songinpark93/222936335542</td>\n",
       "      <td>NaN</td>\n",
       "    </tr>\n",
       "    <tr>\n",
       "      <th>1</th>\n",
       "      <td>이화여대 신촌역 샐러드 맛집 굿바이슈가베어 솔직후기</td>\n",
       "      <td>https://blog.naver.com/modern_dyoni/222933372090</td>\n",
       "      <td>NaN</td>\n",
       "    </tr>\n",
       "    <tr>\n",
       "      <th>2</th>\n",
       "      <td>앙버터 존맛탱 신촌역 디저트 카페 고르드</td>\n",
       "      <td>https://blog.naver.com/dhkdqnflxldz/222897227428</td>\n",
       "      <td>NaN</td>\n",
       "    </tr>\n",
       "    <tr>\n",
       "      <th>3</th>\n",
       "      <td>[먹거리 리뷰] 서울 신촌역 그랜드플라자 피자몰 신촌점...</td>\n",
       "      <td>https://blog.naver.com/sakamuts/222988678797</td>\n",
       "      <td>NaN</td>\n",
       "    </tr>\n",
       "    <tr>\n",
       "      <th>4</th>\n",
       "      <td>경의선 신촌역 시간표 및 공영주차장 / 경의중앙선 신촌기차역...</td>\n",
       "      <td>https://blog.naver.com/dxsuckit69/222970302551</td>\n",
       "      <td>NaN</td>\n",
       "    </tr>\n",
       "    <tr>\n",
       "      <th>...</th>\n",
       "      <td>...</td>\n",
       "      <td>...</td>\n",
       "      <td>...</td>\n",
       "    </tr>\n",
       "    <tr>\n",
       "      <th>1085</th>\n",
       "      <td>추억의 신촌역(경의선)을 찾아서</td>\n",
       "      <td>https://blog.naver.com/yehrim95/70078453180</td>\n",
       "      <td>NaN</td>\n",
       "    </tr>\n",
       "    <tr>\n",
       "      <th>1086</th>\n",
       "      <td>2호선 신촌역 주변 단독다가구,상가주택 매물 소개 &amp;amp; 분석 #1.</td>\n",
       "      <td>https://blog.naver.com/srgoldp/222962802433</td>\n",
       "      <td>NaN</td>\n",
       "    </tr>\n",
       "    <tr>\n",
       "      <th>1087</th>\n",
       "      <td>신촌역 라멘맛집 카라멘야, 돈코츠라멘 추천</td>\n",
       "      <td>https://blog.naver.com/tjsals9210/222873554472</td>\n",
       "      <td>NaN</td>\n",
       "    </tr>\n",
       "    <tr>\n",
       "      <th>1088</th>\n",
       "      <td>신촌역 연대가는길 신촌세브란스 암병원 가는길 │힐링앤뷰티</td>\n",
       "      <td>https://blog.naver.com/pschealing/220003704660</td>\n",
       "      <td>NaN</td>\n",
       "    </tr>\n",
       "    <tr>\n",
       "      <th>1089</th>\n",
       "      <td>신촌역 카페 :: 고르드, 앙버터가 맛있는 빵 냄새 가득한 카페</td>\n",
       "      <td>https://blog.naver.com/aran_93/221657210055</td>\n",
       "      <td>NaN</td>\n",
       "    </tr>\n",
       "  </tbody>\n",
       "</table>\n",
       "<p>1090 rows × 3 columns</p>\n",
       "</div>"
      ],
      "text/plain": [
       "                                         title  \\\n",
       "0                               합리적이였던 신촌역 고기집   \n",
       "1                 이화여대 신촌역 샐러드 맛집 굿바이슈가베어 솔직후기   \n",
       "2                       앙버터 존맛탱 신촌역 디저트 카페 고르드   \n",
       "3           [먹거리 리뷰] 서울 신촌역 그랜드플라자 피자몰 신촌점...    \n",
       "4        경의선 신촌역 시간표 및 공영주차장 / 경의중앙선 신촌기차역...    \n",
       "...                                        ...   \n",
       "1085                         추억의 신촌역(경의선)을 찾아서   \n",
       "1086  2호선 신촌역 주변 단독다가구,상가주택 매물 소개 &amp; 분석 #1.   \n",
       "1087                   신촌역 라멘맛집 카라멘야, 돈코츠라멘 추천   \n",
       "1088           신촌역 연대가는길 신촌세브란스 암병원 가는길 │힐링앤뷰티   \n",
       "1089       신촌역 카페 :: 고르드, 앙버터가 맛있는 빵 냄새 가득한 카페   \n",
       "\n",
       "                                                  link  description  \n",
       "0     https://blog.naver.com/songinpark93/222936335542          NaN  \n",
       "1     https://blog.naver.com/modern_dyoni/222933372090          NaN  \n",
       "2     https://blog.naver.com/dhkdqnflxldz/222897227428          NaN  \n",
       "3         https://blog.naver.com/sakamuts/222988678797          NaN  \n",
       "4       https://blog.naver.com/dxsuckit69/222970302551          NaN  \n",
       "...                                                ...          ...  \n",
       "1085       https://blog.naver.com/yehrim95/70078453180          NaN  \n",
       "1086       https://blog.naver.com/srgoldp/222962802433          NaN  \n",
       "1087    https://blog.naver.com/tjsals9210/222873554472          NaN  \n",
       "1088    https://blog.naver.com/pschealing/220003704660          NaN  \n",
       "1089       https://blog.naver.com/aran_93/221657210055          NaN  \n",
       "\n",
       "[1090 rows x 3 columns]"
      ]
     },
     "execution_count": 6,
     "metadata": {},
     "output_type": "execute_result"
    }
   ],
   "source": [
    "df"
   ]
  },
  {
   "cell_type": "code",
   "execution_count": 6,
   "metadata": {},
   "outputs": [
    {
     "data": {
      "text/html": [
       "<div>\n",
       "<style scoped>\n",
       "    .dataframe tbody tr th:only-of-type {\n",
       "        vertical-align: middle;\n",
       "    }\n",
       "\n",
       "    .dataframe tbody tr th {\n",
       "        vertical-align: top;\n",
       "    }\n",
       "\n",
       "    .dataframe thead th {\n",
       "        text-align: right;\n",
       "    }\n",
       "</style>\n",
       "<table border=\"1\" class=\"dataframe\">\n",
       "  <thead>\n",
       "    <tr style=\"text-align: right;\">\n",
       "      <th></th>\n",
       "      <th>title</th>\n",
       "      <th>link</th>\n",
       "      <th>description</th>\n",
       "    </tr>\n",
       "  </thead>\n",
       "  <tbody>\n",
       "  </tbody>\n",
       "</table>\n",
       "</div>"
      ],
      "text/plain": [
       "Empty DataFrame\n",
       "Columns: [title, link, description]\n",
       "Index: []"
      ]
     },
     "execution_count": 6,
     "metadata": {},
     "output_type": "execute_result"
    }
   ],
   "source": [
    "df[df['description'].isnull()]"
   ]
  },
  {
   "cell_type": "code",
   "execution_count": 7,
   "metadata": {},
   "outputs": [],
   "source": [
    "df_blog.to_csv('test.csv')"
   ]
  }
 ],
 "metadata": {
  "kernelspec": {
   "display_name": "cp2",
   "language": "python",
   "name": "python3"
  },
  "language_info": {
   "codemirror_mode": {
    "name": "ipython",
    "version": 3
   },
   "file_extension": ".py",
   "mimetype": "text/x-python",
   "name": "python",
   "nbconvert_exporter": "python",
   "pygments_lexer": "ipython3",
   "version": "3.8.16"
  },
  "orig_nbformat": 4,
  "vscode": {
   "interpreter": {
    "hash": "699f5f1df47bd9cd5a6cb370ac19010f3581a6948a486db3caa8ce455d93d146"
   }
  }
 },
 "nbformat": 4,
 "nbformat_minor": 2
}
